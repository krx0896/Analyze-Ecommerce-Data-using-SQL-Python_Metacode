{
  "nbformat": 4,
  "nbformat_minor": 0,
  "metadata": {
    "colab": {
      "provenance": [],
      "toc_visible": true
    },
    "kernelspec": {
      "name": "python3",
      "display_name": "Python 3"
    },
    "language_info": {
      "name": "python"
    }
  },
  "cells": [
    {
      "cell_type": "markdown",
      "source": [
        "# 기본 설정"
      ],
      "metadata": {
        "id": "0jy7hWyY5X6X"
      }
    },
    {
      "cell_type": "markdown",
      "source": [
        "## 기본 라이브러리 import"
      ],
      "metadata": {
        "id": "R1R4UcsbZU8r"
      }
    },
    {
      "cell_type": "code",
      "source": [
        "import pandas as pd\n",
        "import numpy as np"
      ],
      "metadata": {
        "id": "JoA4edWMae3q"
      },
      "execution_count": null,
      "outputs": []
    },
    {
      "cell_type": "markdown",
      "source": [
        "## BigQuery 연동을 위한 기본 설정"
      ],
      "metadata": {
        "id": "Qak1JKpTZZPr"
      }
    },
    {
      "cell_type": "code",
      "execution_count": null,
      "metadata": {
        "id": "AM5RuPJYZUtS"
      },
      "outputs": [],
      "source": [
        "from google.colab import auth\n",
        "from google.cloud import bigquery\n",
        "from google.colab import data_table\n",
        "\n",
        "project = 'automated-ray-378309' # Project ID inserted based on the query results selected to explore\n",
        "location = 'US' # Location inserted based on the query results selected to explore\n",
        "client = bigquery.Client(project=project, location=location)\n",
        "data_table.enable_dataframe_formatter()\n",
        "auth.authenticate_user()"
      ]
    },
    {
      "cell_type": "markdown",
      "source": [
        "## BigQuery 데이터 불러오기\n",
        "- `loginUsersDf`: 일간 로그인 유저 데이터프레임\n",
        "- `ordersDf`: 일간 주문 정보 데이터프레임\n",
        "- `salesByShopDf`: 매장별 누적매출 데이터프레임\n",
        "- `shopsDf`: 픽업 매장 정보 데이터프레임"
      ],
      "metadata": {
        "id": "oCCDQkC9Zeud"
      }
    },
    {
      "cell_type": "code",
      "source": [
        "# 여기서 다루고자 하는 쿼리를 sql 문법에 맞춰 들고옴\n",
        "query_job = client.query(\"\"\"\n",
        "    select *\n",
        "    from `automated-ray-378309.my_temp.daily_login_users`\n",
        "\"\"\")\n",
        "# 위에서 들고온 쿼리를 데이터프레임형태로 변형해줌\n",
        "loginUsersDf = query_job.to_dataframe()\n",
        "loginUsersDf['login_date'] = loginUsersDf['login_date'].astype('datetime64') #datetime 타입으로 변환(외부에서 불러온 날짜데이터의 경우 datetime이 아닌 다른 형식으로 들어오는 경우가 종종 있음)\n",
        "#------------------------------------------------------------------------------------------------------------------------------------------------#\n",
        "query_job = client.query(\"\"\"\n",
        "    select *\n",
        "    from `automated-ray-378309.my_temp.orders`\n",
        "\"\"\")\n",
        "\n",
        "ordersDf = query_job.to_dataframe()\n",
        "ordersDf['order_date'] = ordersDf['order_date'].astype('datetime64') \n",
        "\n",
        "#------------------------------------------------------------------------------------------------------------------------------------------------#\n",
        "query_job = client.query(\"\"\"\n",
        "    select pickup_shop_name, sum(payment_amount) as sales, count(distinct user_id) as pu\n",
        "    from `automated-ray-378309.localparm_dw.orders`\n",
        "    group by pickup_shop_name\n",
        "\"\"\")\n",
        "\n",
        "salesByShopDf = query_job.to_dataframe()\n",
        "\n",
        "#------------------------------------------------------------------------------------------------------------------------------------------------#\n",
        "query_job = client.query(\"\"\"\n",
        "    select *\n",
        "    from `automated-ray-378309.localparm_dw.pickup_shop`\n",
        "\"\"\")\n",
        "shopsDf = query_job.to_dataframe()"
      ],
      "metadata": {
        "id": "bx0fFkHaZldA"
      },
      "execution_count": null,
      "outputs": []
    },
    {
      "cell_type": "markdown",
      "source": [
        "# 데이터 살펴보기"
      ],
      "metadata": {
        "id": "wtgbpFnU5wqb"
      }
    },
    {
      "cell_type": "markdown",
      "source": [
        "## 일부만 출력 - head(), tail() ⭐️\n",
        "- colab에서 출력가능한 데이터프레임은 최대 20,000행 입니다.\n",
        "- colab에서 데이터프레임을 출력할 경우 `filter` 기능도 사용할 수 있습니다. 같이 살펴볼까요?"
      ],
      "metadata": {
        "id": "2K-jSBdOZAd7"
      }
    },
    {
      "cell_type": "code",
      "source": [
        "ordersDf.head(4)"
      ],
      "metadata": {
        "id": "de31lX3R3Cqa",
        "colab": {
          "base_uri": "https://localhost:8080/",
          "height": 308
        },
        "outputId": "4e3a690d-a808-48df-8dfd-252195b3288d"
      },
      "execution_count": null,
      "outputs": [
        {
          "output_type": "execute_result",
          "data": {
            "text/plain": [
              "                               order_id order_date order_year_month  \\\n",
              "0  b8ddfc3a-ed30-4930-bc56-8c1c7cddaa99 2022-11-20          2022-11   \n",
              "1  23dd5859-7d76-4015-a6aa-5cb732696664 2022-11-14          2022-11   \n",
              "2  2bff505e-3095-424b-8d53-905cb23d45b0 2022-11-14          2022-11   \n",
              "3  a3c4bdde-8feb-4153-9ea4-f6002df2e8db 2022-11-14          2022-11   \n",
              "\n",
              "                             product_id                               user_id  \\\n",
              "0  05971c6f-df43-4361-8f2d-e36e73484bf1  261f2168-9f42-4a51-8548-7f3edf5d7ed9   \n",
              "1  07b525ae-7120-4b43-b377-9748f9919c25  91b19fb3-1c79-4577-9f6c-6b05c870344a   \n",
              "2  07b525ae-7120-4b43-b377-9748f9919c25  b6b68b58-ce02-4311-8673-76e658d81ed4   \n",
              "3  09bca887-402c-431c-8215-e2e4363b0a05  e2b97c48-adb2-4838-bfd9-fc33b858e337   \n",
              "\n",
              "   payment_amount payment_status pickup_shop_name  \n",
              "0           20500      completed       픽업존(더현대서울)  \n",
              "1           10000      completed       픽업존(더현대서울)  \n",
              "2           20000       canceled       픽업존(더현대서울)  \n",
              "3           16000       canceled       픽업존(더현대서울)  "
            ],
            "text/html": [
              "\n",
              "  <div id=\"df-92d3cf56-587b-46ed-961b-368db8663123\">\n",
              "    <div class=\"colab-df-container\">\n",
              "      <div>\n",
              "<style scoped>\n",
              "    .dataframe tbody tr th:only-of-type {\n",
              "        vertical-align: middle;\n",
              "    }\n",
              "\n",
              "    .dataframe tbody tr th {\n",
              "        vertical-align: top;\n",
              "    }\n",
              "\n",
              "    .dataframe thead th {\n",
              "        text-align: right;\n",
              "    }\n",
              "</style>\n",
              "<table border=\"1\" class=\"dataframe\">\n",
              "  <thead>\n",
              "    <tr style=\"text-align: right;\">\n",
              "      <th></th>\n",
              "      <th>order_id</th>\n",
              "      <th>order_date</th>\n",
              "      <th>order_year_month</th>\n",
              "      <th>product_id</th>\n",
              "      <th>user_id</th>\n",
              "      <th>payment_amount</th>\n",
              "      <th>payment_status</th>\n",
              "      <th>pickup_shop_name</th>\n",
              "    </tr>\n",
              "  </thead>\n",
              "  <tbody>\n",
              "    <tr>\n",
              "      <th>0</th>\n",
              "      <td>b8ddfc3a-ed30-4930-bc56-8c1c7cddaa99</td>\n",
              "      <td>2022-11-20</td>\n",
              "      <td>2022-11</td>\n",
              "      <td>05971c6f-df43-4361-8f2d-e36e73484bf1</td>\n",
              "      <td>261f2168-9f42-4a51-8548-7f3edf5d7ed9</td>\n",
              "      <td>20500</td>\n",
              "      <td>completed</td>\n",
              "      <td>픽업존(더현대서울)</td>\n",
              "    </tr>\n",
              "    <tr>\n",
              "      <th>1</th>\n",
              "      <td>23dd5859-7d76-4015-a6aa-5cb732696664</td>\n",
              "      <td>2022-11-14</td>\n",
              "      <td>2022-11</td>\n",
              "      <td>07b525ae-7120-4b43-b377-9748f9919c25</td>\n",
              "      <td>91b19fb3-1c79-4577-9f6c-6b05c870344a</td>\n",
              "      <td>10000</td>\n",
              "      <td>completed</td>\n",
              "      <td>픽업존(더현대서울)</td>\n",
              "    </tr>\n",
              "    <tr>\n",
              "      <th>2</th>\n",
              "      <td>2bff505e-3095-424b-8d53-905cb23d45b0</td>\n",
              "      <td>2022-11-14</td>\n",
              "      <td>2022-11</td>\n",
              "      <td>07b525ae-7120-4b43-b377-9748f9919c25</td>\n",
              "      <td>b6b68b58-ce02-4311-8673-76e658d81ed4</td>\n",
              "      <td>20000</td>\n",
              "      <td>canceled</td>\n",
              "      <td>픽업존(더현대서울)</td>\n",
              "    </tr>\n",
              "    <tr>\n",
              "      <th>3</th>\n",
              "      <td>a3c4bdde-8feb-4153-9ea4-f6002df2e8db</td>\n",
              "      <td>2022-11-14</td>\n",
              "      <td>2022-11</td>\n",
              "      <td>09bca887-402c-431c-8215-e2e4363b0a05</td>\n",
              "      <td>e2b97c48-adb2-4838-bfd9-fc33b858e337</td>\n",
              "      <td>16000</td>\n",
              "      <td>canceled</td>\n",
              "      <td>픽업존(더현대서울)</td>\n",
              "    </tr>\n",
              "  </tbody>\n",
              "</table>\n",
              "</div>\n",
              "      <button class=\"colab-df-convert\" onclick=\"convertToInteractive('df-92d3cf56-587b-46ed-961b-368db8663123')\"\n",
              "              title=\"Convert this dataframe to an interactive table.\"\n",
              "              style=\"display:none;\">\n",
              "        \n",
              "  <svg xmlns=\"http://www.w3.org/2000/svg\" height=\"24px\"viewBox=\"0 0 24 24\"\n",
              "       width=\"24px\">\n",
              "    <path d=\"M0 0h24v24H0V0z\" fill=\"none\"/>\n",
              "    <path d=\"M18.56 5.44l.94 2.06.94-2.06 2.06-.94-2.06-.94-.94-2.06-.94 2.06-2.06.94zm-11 1L8.5 8.5l.94-2.06 2.06-.94-2.06-.94L8.5 2.5l-.94 2.06-2.06.94zm10 10l.94 2.06.94-2.06 2.06-.94-2.06-.94-.94-2.06-.94 2.06-2.06.94z\"/><path d=\"M17.41 7.96l-1.37-1.37c-.4-.4-.92-.59-1.43-.59-.52 0-1.04.2-1.43.59L10.3 9.45l-7.72 7.72c-.78.78-.78 2.05 0 2.83L4 21.41c.39.39.9.59 1.41.59.51 0 1.02-.2 1.41-.59l7.78-7.78 2.81-2.81c.8-.78.8-2.07 0-2.86zM5.41 20L4 18.59l7.72-7.72 1.47 1.35L5.41 20z\"/>\n",
              "  </svg>\n",
              "      </button>\n",
              "      \n",
              "  <style>\n",
              "    .colab-df-container {\n",
              "      display:flex;\n",
              "      flex-wrap:wrap;\n",
              "      gap: 12px;\n",
              "    }\n",
              "\n",
              "    .colab-df-convert {\n",
              "      background-color: #E8F0FE;\n",
              "      border: none;\n",
              "      border-radius: 50%;\n",
              "      cursor: pointer;\n",
              "      display: none;\n",
              "      fill: #1967D2;\n",
              "      height: 32px;\n",
              "      padding: 0 0 0 0;\n",
              "      width: 32px;\n",
              "    }\n",
              "\n",
              "    .colab-df-convert:hover {\n",
              "      background-color: #E2EBFA;\n",
              "      box-shadow: 0px 1px 2px rgba(60, 64, 67, 0.3), 0px 1px 3px 1px rgba(60, 64, 67, 0.15);\n",
              "      fill: #174EA6;\n",
              "    }\n",
              "\n",
              "    [theme=dark] .colab-df-convert {\n",
              "      background-color: #3B4455;\n",
              "      fill: #D2E3FC;\n",
              "    }\n",
              "\n",
              "    [theme=dark] .colab-df-convert:hover {\n",
              "      background-color: #434B5C;\n",
              "      box-shadow: 0px 1px 3px 1px rgba(0, 0, 0, 0.15);\n",
              "      filter: drop-shadow(0px 1px 2px rgba(0, 0, 0, 0.3));\n",
              "      fill: #FFFFFF;\n",
              "    }\n",
              "  </style>\n",
              "\n",
              "      <script>\n",
              "        const buttonEl =\n",
              "          document.querySelector('#df-92d3cf56-587b-46ed-961b-368db8663123 button.colab-df-convert');\n",
              "        buttonEl.style.display =\n",
              "          google.colab.kernel.accessAllowed ? 'block' : 'none';\n",
              "\n",
              "        async function convertToInteractive(key) {\n",
              "          const element = document.querySelector('#df-92d3cf56-587b-46ed-961b-368db8663123');\n",
              "          const dataTable =\n",
              "            await google.colab.kernel.invokeFunction('convertToInteractive',\n",
              "                                                     [key], {});\n",
              "          if (!dataTable) return;\n",
              "\n",
              "          const docLinkHtml = 'Like what you see? Visit the ' +\n",
              "            '<a target=\"_blank\" href=https://colab.research.google.com/notebooks/data_table.ipynb>data table notebook</a>'\n",
              "            + ' to learn more about interactive tables.';\n",
              "          element.innerHTML = '';\n",
              "          dataTable['output_type'] = 'display_data';\n",
              "          await google.colab.output.renderOutput(dataTable, element);\n",
              "          const docLink = document.createElement('div');\n",
              "          docLink.innerHTML = docLinkHtml;\n",
              "          element.appendChild(docLink);\n",
              "        }\n",
              "      </script>\n",
              "    </div>\n",
              "  </div>\n",
              "  "
            ],
            "application/vnd.google.colaboratory.module+javascript": "\n      import \"https://ssl.gstatic.com/colaboratory/data_table/99dac6621f6ae8c4/data_table.js\";\n\n      window.createDataTable({\n        data: [[{\n            'v': 0,\n            'f': \"0\",\n        },\n\"b8ddfc3a-ed30-4930-bc56-8c1c7cddaa99\",\n\"2022-11-20 00:00:00\",\n\"2022-11\",\n\"05971c6f-df43-4361-8f2d-e36e73484bf1\",\n\"261f2168-9f42-4a51-8548-7f3edf5d7ed9\",\n{\n            'v': 20500,\n            'f': \"20500\",\n        },\n\"completed\",\n\"\\ud53d\\uc5c5\\uc874(\\ub354\\ud604\\ub300\\uc11c\\uc6b8)\"],\n [{\n            'v': 1,\n            'f': \"1\",\n        },\n\"23dd5859-7d76-4015-a6aa-5cb732696664\",\n\"2022-11-14 00:00:00\",\n\"2022-11\",\n\"07b525ae-7120-4b43-b377-9748f9919c25\",\n\"91b19fb3-1c79-4577-9f6c-6b05c870344a\",\n{\n            'v': 10000,\n            'f': \"10000\",\n        },\n\"completed\",\n\"\\ud53d\\uc5c5\\uc874(\\ub354\\ud604\\ub300\\uc11c\\uc6b8)\"],\n [{\n            'v': 2,\n            'f': \"2\",\n        },\n\"2bff505e-3095-424b-8d53-905cb23d45b0\",\n\"2022-11-14 00:00:00\",\n\"2022-11\",\n\"07b525ae-7120-4b43-b377-9748f9919c25\",\n\"b6b68b58-ce02-4311-8673-76e658d81ed4\",\n{\n            'v': 20000,\n            'f': \"20000\",\n        },\n\"canceled\",\n\"\\ud53d\\uc5c5\\uc874(\\ub354\\ud604\\ub300\\uc11c\\uc6b8)\"],\n [{\n            'v': 3,\n            'f': \"3\",\n        },\n\"a3c4bdde-8feb-4153-9ea4-f6002df2e8db\",\n\"2022-11-14 00:00:00\",\n\"2022-11\",\n\"09bca887-402c-431c-8215-e2e4363b0a05\",\n\"e2b97c48-adb2-4838-bfd9-fc33b858e337\",\n{\n            'v': 16000,\n            'f': \"16000\",\n        },\n\"canceled\",\n\"\\ud53d\\uc5c5\\uc874(\\ub354\\ud604\\ub300\\uc11c\\uc6b8)\"]],\n        columns: [[\"number\", \"index\"], [\"string\", \"order_id\"], [\"string\", \"order_date\"], [\"string\", \"order_year_month\"], [\"string\", \"product_id\"], [\"string\", \"user_id\"], [\"number\", \"payment_amount\"], [\"string\", \"payment_status\"], [\"string\", \"pickup_shop_name\"]],\n        columnOptions: [{\"width\": \"1px\", \"className\": \"index_column\"}],\n        rowsPerPage: 25,\n        helpUrl: \"https://colab.research.google.com/notebooks/data_table.ipynb\",\n        suppressOutputScrolling: true,\n        minimumWidth: undefined,\n      });\n    "
          },
          "metadata": {},
          "execution_count": 6
        }
      ]
    },
    {
      "cell_type": "markdown",
      "source": [
        "## 타입 확인 - type()"
      ],
      "metadata": {
        "id": "QF3d2Cq2ZpNC"
      }
    },
    {
      "cell_type": "code",
      "source": [
        "print(type(ordersDf)) # <class 'pandas.core.frame.DataFrame'>"
      ],
      "metadata": {
        "id": "Yjg0YHyAZ4fN",
        "colab": {
          "base_uri": "https://localhost:8080/"
        },
        "outputId": "4b232c8d-8fcd-4353-de47-9c33a23c9f58"
      },
      "execution_count": null,
      "outputs": [
        {
          "output_type": "stream",
          "name": "stdout",
          "text": [
            "<class 'pandas.core.frame.DataFrame'>\n"
          ]
        }
      ]
    },
    {
      "cell_type": "markdown",
      "source": [
        "## 데이터의 분포를 확인 - value_counts() ⭐️"
      ],
      "metadata": {
        "id": "yWGbF3CFZLsS"
      }
    },
    {
      "cell_type": "code",
      "source": [
        "# ordersDf['pickup_shop_name'].value_counts()\n",
        "\n",
        "# << Series를 DataFrame으로 만들어서 보면 보기/다루기 편하죠 아래 코드를 '.' 단위로 나눠서 실행해 볼까요? >>\n",
        "ordersDf[['pickup_shop_name', 'product_id']].value_counts().to_frame().reset_index().rename(columns={0:'order_count'}).head()"
      ],
      "metadata": {
        "id": "vSOtOEM9Ay00",
        "colab": {
          "base_uri": "https://localhost:8080/",
          "height": 197
        },
        "outputId": "c1e742d0-b8f1-4793-93b0-0b0905546f24"
      },
      "execution_count": null,
      "outputs": [
        {
          "output_type": "execute_result",
          "data": {
            "text/plain": [
              "  pickup_shop_name                            product_id  order_count\n",
              "0        픽업존(유승상가)  fbd559bb-f7b2-4250-8d6c-93524a169c3e          206\n",
              "1        픽업존(유승상가)  d01198e1-d827-4d82-8301-918757895020          170\n",
              "2        픽업존(유승상가)  b2672cda-3977-45df-8046-dca95a826017          158\n",
              "3        픽업존(유승상가)  2d335dd0-4bdc-41be-99ac-5d4da2727778          154\n",
              "4        픽업존(유승상가)  8e1db1bf-f4f4-43c1-b258-bc1e0ee8162c          146"
            ],
            "text/html": [
              "\n",
              "  <div id=\"df-28ccfe42-59c2-4b8b-95ed-06725b0710e0\">\n",
              "    <div class=\"colab-df-container\">\n",
              "      <div>\n",
              "<style scoped>\n",
              "    .dataframe tbody tr th:only-of-type {\n",
              "        vertical-align: middle;\n",
              "    }\n",
              "\n",
              "    .dataframe tbody tr th {\n",
              "        vertical-align: top;\n",
              "    }\n",
              "\n",
              "    .dataframe thead th {\n",
              "        text-align: right;\n",
              "    }\n",
              "</style>\n",
              "<table border=\"1\" class=\"dataframe\">\n",
              "  <thead>\n",
              "    <tr style=\"text-align: right;\">\n",
              "      <th></th>\n",
              "      <th>pickup_shop_name</th>\n",
              "      <th>product_id</th>\n",
              "      <th>order_count</th>\n",
              "    </tr>\n",
              "  </thead>\n",
              "  <tbody>\n",
              "    <tr>\n",
              "      <th>0</th>\n",
              "      <td>픽업존(유승상가)</td>\n",
              "      <td>fbd559bb-f7b2-4250-8d6c-93524a169c3e</td>\n",
              "      <td>206</td>\n",
              "    </tr>\n",
              "    <tr>\n",
              "      <th>1</th>\n",
              "      <td>픽업존(유승상가)</td>\n",
              "      <td>d01198e1-d827-4d82-8301-918757895020</td>\n",
              "      <td>170</td>\n",
              "    </tr>\n",
              "    <tr>\n",
              "      <th>2</th>\n",
              "      <td>픽업존(유승상가)</td>\n",
              "      <td>b2672cda-3977-45df-8046-dca95a826017</td>\n",
              "      <td>158</td>\n",
              "    </tr>\n",
              "    <tr>\n",
              "      <th>3</th>\n",
              "      <td>픽업존(유승상가)</td>\n",
              "      <td>2d335dd0-4bdc-41be-99ac-5d4da2727778</td>\n",
              "      <td>154</td>\n",
              "    </tr>\n",
              "    <tr>\n",
              "      <th>4</th>\n",
              "      <td>픽업존(유승상가)</td>\n",
              "      <td>8e1db1bf-f4f4-43c1-b258-bc1e0ee8162c</td>\n",
              "      <td>146</td>\n",
              "    </tr>\n",
              "  </tbody>\n",
              "</table>\n",
              "</div>\n",
              "      <button class=\"colab-df-convert\" onclick=\"convertToInteractive('df-28ccfe42-59c2-4b8b-95ed-06725b0710e0')\"\n",
              "              title=\"Convert this dataframe to an interactive table.\"\n",
              "              style=\"display:none;\">\n",
              "        \n",
              "  <svg xmlns=\"http://www.w3.org/2000/svg\" height=\"24px\"viewBox=\"0 0 24 24\"\n",
              "       width=\"24px\">\n",
              "    <path d=\"M0 0h24v24H0V0z\" fill=\"none\"/>\n",
              "    <path d=\"M18.56 5.44l.94 2.06.94-2.06 2.06-.94-2.06-.94-.94-2.06-.94 2.06-2.06.94zm-11 1L8.5 8.5l.94-2.06 2.06-.94-2.06-.94L8.5 2.5l-.94 2.06-2.06.94zm10 10l.94 2.06.94-2.06 2.06-.94-2.06-.94-.94-2.06-.94 2.06-2.06.94z\"/><path d=\"M17.41 7.96l-1.37-1.37c-.4-.4-.92-.59-1.43-.59-.52 0-1.04.2-1.43.59L10.3 9.45l-7.72 7.72c-.78.78-.78 2.05 0 2.83L4 21.41c.39.39.9.59 1.41.59.51 0 1.02-.2 1.41-.59l7.78-7.78 2.81-2.81c.8-.78.8-2.07 0-2.86zM5.41 20L4 18.59l7.72-7.72 1.47 1.35L5.41 20z\"/>\n",
              "  </svg>\n",
              "      </button>\n",
              "      \n",
              "  <style>\n",
              "    .colab-df-container {\n",
              "      display:flex;\n",
              "      flex-wrap:wrap;\n",
              "      gap: 12px;\n",
              "    }\n",
              "\n",
              "    .colab-df-convert {\n",
              "      background-color: #E8F0FE;\n",
              "      border: none;\n",
              "      border-radius: 50%;\n",
              "      cursor: pointer;\n",
              "      display: none;\n",
              "      fill: #1967D2;\n",
              "      height: 32px;\n",
              "      padding: 0 0 0 0;\n",
              "      width: 32px;\n",
              "    }\n",
              "\n",
              "    .colab-df-convert:hover {\n",
              "      background-color: #E2EBFA;\n",
              "      box-shadow: 0px 1px 2px rgba(60, 64, 67, 0.3), 0px 1px 3px 1px rgba(60, 64, 67, 0.15);\n",
              "      fill: #174EA6;\n",
              "    }\n",
              "\n",
              "    [theme=dark] .colab-df-convert {\n",
              "      background-color: #3B4455;\n",
              "      fill: #D2E3FC;\n",
              "    }\n",
              "\n",
              "    [theme=dark] .colab-df-convert:hover {\n",
              "      background-color: #434B5C;\n",
              "      box-shadow: 0px 1px 3px 1px rgba(0, 0, 0, 0.15);\n",
              "      filter: drop-shadow(0px 1px 2px rgba(0, 0, 0, 0.3));\n",
              "      fill: #FFFFFF;\n",
              "    }\n",
              "  </style>\n",
              "\n",
              "      <script>\n",
              "        const buttonEl =\n",
              "          document.querySelector('#df-28ccfe42-59c2-4b8b-95ed-06725b0710e0 button.colab-df-convert');\n",
              "        buttonEl.style.display =\n",
              "          google.colab.kernel.accessAllowed ? 'block' : 'none';\n",
              "\n",
              "        async function convertToInteractive(key) {\n",
              "          const element = document.querySelector('#df-28ccfe42-59c2-4b8b-95ed-06725b0710e0');\n",
              "          const dataTable =\n",
              "            await google.colab.kernel.invokeFunction('convertToInteractive',\n",
              "                                                     [key], {});\n",
              "          if (!dataTable) return;\n",
              "\n",
              "          const docLinkHtml = 'Like what you see? Visit the ' +\n",
              "            '<a target=\"_blank\" href=https://colab.research.google.com/notebooks/data_table.ipynb>data table notebook</a>'\n",
              "            + ' to learn more about interactive tables.';\n",
              "          element.innerHTML = '';\n",
              "          dataTable['output_type'] = 'display_data';\n",
              "          await google.colab.output.renderOutput(dataTable, element);\n",
              "          const docLink = document.createElement('div');\n",
              "          docLink.innerHTML = docLinkHtml;\n",
              "          element.appendChild(docLink);\n",
              "        }\n",
              "      </script>\n",
              "    </div>\n",
              "  </div>\n",
              "  "
            ],
            "application/vnd.google.colaboratory.module+javascript": "\n      import \"https://ssl.gstatic.com/colaboratory/data_table/99dac6621f6ae8c4/data_table.js\";\n\n      window.createDataTable({\n        data: [[{\n            'v': 0,\n            'f': \"0\",\n        },\n\"\\ud53d\\uc5c5\\uc874(\\uc720\\uc2b9\\uc0c1\\uac00)\",\n\"fbd559bb-f7b2-4250-8d6c-93524a169c3e\",\n{\n            'v': 206,\n            'f': \"206\",\n        }],\n [{\n            'v': 1,\n            'f': \"1\",\n        },\n\"\\ud53d\\uc5c5\\uc874(\\uc720\\uc2b9\\uc0c1\\uac00)\",\n\"d01198e1-d827-4d82-8301-918757895020\",\n{\n            'v': 170,\n            'f': \"170\",\n        }],\n [{\n            'v': 2,\n            'f': \"2\",\n        },\n\"\\ud53d\\uc5c5\\uc874(\\uc720\\uc2b9\\uc0c1\\uac00)\",\n\"b2672cda-3977-45df-8046-dca95a826017\",\n{\n            'v': 158,\n            'f': \"158\",\n        }],\n [{\n            'v': 3,\n            'f': \"3\",\n        },\n\"\\ud53d\\uc5c5\\uc874(\\uc720\\uc2b9\\uc0c1\\uac00)\",\n\"2d335dd0-4bdc-41be-99ac-5d4da2727778\",\n{\n            'v': 154,\n            'f': \"154\",\n        }],\n [{\n            'v': 4,\n            'f': \"4\",\n        },\n\"\\ud53d\\uc5c5\\uc874(\\uc720\\uc2b9\\uc0c1\\uac00)\",\n\"8e1db1bf-f4f4-43c1-b258-bc1e0ee8162c\",\n{\n            'v': 146,\n            'f': \"146\",\n        }]],\n        columns: [[\"number\", \"index\"], [\"string\", \"pickup_shop_name\"], [\"string\", \"product_id\"], [\"number\", \"order_count\"]],\n        columnOptions: [{\"width\": \"1px\", \"className\": \"index_column\"}],\n        rowsPerPage: 25,\n        helpUrl: \"https://colab.research.google.com/notebooks/data_table.ipynb\",\n        suppressOutputScrolling: true,\n        minimumWidth: undefined,\n      });\n    "
          },
          "metadata": {},
          "execution_count": 11
        }
      ]
    },
    {
      "cell_type": "markdown",
      "source": [
        "## 데이터의 타입, 갯수, 각 컬럼별 정보를 확인 - df.info()\n",
        "- 참고: Series의 경우 info() attribute이 없기때문에 사용할 수 없습니다."
      ],
      "metadata": {
        "id": "Gn-1Zru6aDrj"
      }
    },
    {
      "cell_type": "code",
      "source": [
        "ordersDf.info()"
      ],
      "metadata": {
        "id": "iImqe5uaBJkQ",
        "colab": {
          "base_uri": "https://localhost:8080/"
        },
        "outputId": "b40c1ab0-8fd3-4bb4-8a4d-6c504a48cf80"
      },
      "execution_count": null,
      "outputs": [
        {
          "output_type": "stream",
          "name": "stdout",
          "text": [
            "<class 'pandas.core.frame.DataFrame'>\n",
            "RangeIndex: 32224 entries, 0 to 32223\n",
            "Data columns (total 8 columns):\n",
            " #   Column            Non-Null Count  Dtype         \n",
            "---  ------            --------------  -----         \n",
            " 0   order_id          32224 non-null  object        \n",
            " 1   order_date        32224 non-null  datetime64[ns]\n",
            " 2   order_year_month  32224 non-null  object        \n",
            " 3   product_id        32224 non-null  object        \n",
            " 4   user_id           32224 non-null  object        \n",
            " 5   payment_amount    32224 non-null  Int64         \n",
            " 6   payment_status    32224 non-null  object        \n",
            " 7   pickup_shop_name  32224 non-null  object        \n",
            "dtypes: Int64(1), datetime64[ns](1), object(6)\n",
            "memory usage: 2.0+ MB\n"
          ]
        }
      ]
    },
    {
      "cell_type": "markdown",
      "source": [
        "## 컬럼별 요약 통계 제공 - df.describe() ⭐️\n",
        "- 공식문서: https://pandas.pydata.org/docs/reference/api/pandas.DataFrame.describe.html\n",
        "- include파라미터의 default설정은 `number`(수치형)이며, `object`(문자형), `all`(모두) 옵션 선택 가능 \n",
        "- 문자형 컬럼에 대한 통계량\n",
        "  - `count`: 데이터 개수(중복 포함)\n",
        "  - `unique`: 데이터 개수(중복 제외)\n",
        "  - `top`: 가장 많은 빈도수를 갖는 값\n",
        "  - `freq`: top에서 관측된 값의 빈도수\n",
        "- Timestamp 타입의 컬럼에게는 first, last 값도 통계량으로 함께 제공"
      ],
      "metadata": {
        "id": "8rINoVuOYp9h"
      }
    },
    {
      "cell_type": "code",
      "source": [
        "# << 수치형 컬럼에 대한 통계량 확인 >>\n",
        "# ordersDf.describe() \n",
        "\n",
        "# << 문자열 컬럼에 대한 통계량 확인 >>\n",
        "# ordersDf.describe(include='object')\n",
        "\n",
        "# << 전체 컬럼에 대한 통계량 확인 >>\n",
        "ordersDf.describe(include='all')\n"
      ],
      "metadata": {
        "id": "6RDvbfq9CLA8",
        "colab": {
          "base_uri": "https://localhost:8080/",
          "height": 477
        },
        "outputId": "5edf5c6e-5f2b-4da9-edea-a678bb74c310"
      },
      "execution_count": null,
      "outputs": [
        {
          "output_type": "stream",
          "name": "stderr",
          "text": [
            "<ipython-input-13-5be779027494>:8: FutureWarning: Treating datetime data as categorical rather than numeric in `.describe` is deprecated and will be removed in a future version of pandas. Specify `datetime_is_numeric=True` to silence this warning and adopt the future behavior now.\n",
            "  ordersDf.describe(include='all')\n"
          ]
        },
        {
          "output_type": "execute_result",
          "data": {
            "text/plain": [
              "                                    order_id           order_date  \\\n",
              "count                                  32224                32224   \n",
              "unique                                 32224                  211   \n",
              "top     b8ddfc3a-ed30-4930-bc56-8c1c7cddaa99  2022-11-29 00:00:00   \n",
              "freq                                       1                  996   \n",
              "first                                    NaN  2022-05-01 00:00:00   \n",
              "last                                     NaN  2022-11-30 00:00:00   \n",
              "mean                                     NaN                  NaN   \n",
              "std                                      NaN                  NaN   \n",
              "min                                      NaN                  NaN   \n",
              "25%                                      NaN                  NaN   \n",
              "50%                                      NaN                  NaN   \n",
              "75%                                      NaN                  NaN   \n",
              "max                                      NaN                  NaN   \n",
              "\n",
              "       order_year_month                            product_id  \\\n",
              "count             32224                                 32224   \n",
              "unique                7                                   727   \n",
              "top             2022-11  fbd559bb-f7b2-4250-8d6c-93524a169c3e   \n",
              "freq              10037                                   206   \n",
              "first               NaN                                   NaN   \n",
              "last                NaN                                   NaN   \n",
              "mean                NaN                                   NaN   \n",
              "std                 NaN                                   NaN   \n",
              "min                 NaN                                   NaN   \n",
              "25%                 NaN                                   NaN   \n",
              "50%                 NaN                                   NaN   \n",
              "75%                 NaN                                   NaN   \n",
              "max                 NaN                                   NaN   \n",
              "\n",
              "                                     user_id  payment_amount payment_status  \\\n",
              "count                                  32224    32224.000000          32224   \n",
              "unique                                  4000             NaN              5   \n",
              "top     76d5c8b0-7a5c-4d9d-aafb-8edc91a3de1e             NaN      completed   \n",
              "freq                                     165             NaN          29663   \n",
              "first                                    NaN             NaN            NaN   \n",
              "last                                     NaN             NaN            NaN   \n",
              "mean                                     NaN    15452.538481            NaN   \n",
              "std                                      NaN     9932.864159            NaN   \n",
              "min                                      NaN      100.000000            NaN   \n",
              "25%                                      NaN     9000.000000            NaN   \n",
              "50%                                      NaN    14000.000000            NaN   \n",
              "75%                                      NaN    19000.000000            NaN   \n",
              "max                                      NaN   248000.000000            NaN   \n",
              "\n",
              "       pickup_shop_name  \n",
              "count             32224  \n",
              "unique                8  \n",
              "top           픽업존(유승상가)  \n",
              "freq              17615  \n",
              "first               NaN  \n",
              "last                NaN  \n",
              "mean                NaN  \n",
              "std                 NaN  \n",
              "min                 NaN  \n",
              "25%                 NaN  \n",
              "50%                 NaN  \n",
              "75%                 NaN  \n",
              "max                 NaN  "
            ],
            "text/html": [
              "\n",
              "  <div id=\"df-188d6043-3cff-433c-b7e5-f63b566ddc3e\">\n",
              "    <div class=\"colab-df-container\">\n",
              "      <div>\n",
              "<style scoped>\n",
              "    .dataframe tbody tr th:only-of-type {\n",
              "        vertical-align: middle;\n",
              "    }\n",
              "\n",
              "    .dataframe tbody tr th {\n",
              "        vertical-align: top;\n",
              "    }\n",
              "\n",
              "    .dataframe thead th {\n",
              "        text-align: right;\n",
              "    }\n",
              "</style>\n",
              "<table border=\"1\" class=\"dataframe\">\n",
              "  <thead>\n",
              "    <tr style=\"text-align: right;\">\n",
              "      <th></th>\n",
              "      <th>order_id</th>\n",
              "      <th>order_date</th>\n",
              "      <th>order_year_month</th>\n",
              "      <th>product_id</th>\n",
              "      <th>user_id</th>\n",
              "      <th>payment_amount</th>\n",
              "      <th>payment_status</th>\n",
              "      <th>pickup_shop_name</th>\n",
              "    </tr>\n",
              "  </thead>\n",
              "  <tbody>\n",
              "    <tr>\n",
              "      <th>count</th>\n",
              "      <td>32224</td>\n",
              "      <td>32224</td>\n",
              "      <td>32224</td>\n",
              "      <td>32224</td>\n",
              "      <td>32224</td>\n",
              "      <td>32224.000000</td>\n",
              "      <td>32224</td>\n",
              "      <td>32224</td>\n",
              "    </tr>\n",
              "    <tr>\n",
              "      <th>unique</th>\n",
              "      <td>32224</td>\n",
              "      <td>211</td>\n",
              "      <td>7</td>\n",
              "      <td>727</td>\n",
              "      <td>4000</td>\n",
              "      <td>NaN</td>\n",
              "      <td>5</td>\n",
              "      <td>8</td>\n",
              "    </tr>\n",
              "    <tr>\n",
              "      <th>top</th>\n",
              "      <td>b8ddfc3a-ed30-4930-bc56-8c1c7cddaa99</td>\n",
              "      <td>2022-11-29 00:00:00</td>\n",
              "      <td>2022-11</td>\n",
              "      <td>fbd559bb-f7b2-4250-8d6c-93524a169c3e</td>\n",
              "      <td>76d5c8b0-7a5c-4d9d-aafb-8edc91a3de1e</td>\n",
              "      <td>NaN</td>\n",
              "      <td>completed</td>\n",
              "      <td>픽업존(유승상가)</td>\n",
              "    </tr>\n",
              "    <tr>\n",
              "      <th>freq</th>\n",
              "      <td>1</td>\n",
              "      <td>996</td>\n",
              "      <td>10037</td>\n",
              "      <td>206</td>\n",
              "      <td>165</td>\n",
              "      <td>NaN</td>\n",
              "      <td>29663</td>\n",
              "      <td>17615</td>\n",
              "    </tr>\n",
              "    <tr>\n",
              "      <th>first</th>\n",
              "      <td>NaN</td>\n",
              "      <td>2022-05-01 00:00:00</td>\n",
              "      <td>NaN</td>\n",
              "      <td>NaN</td>\n",
              "      <td>NaN</td>\n",
              "      <td>NaN</td>\n",
              "      <td>NaN</td>\n",
              "      <td>NaN</td>\n",
              "    </tr>\n",
              "    <tr>\n",
              "      <th>last</th>\n",
              "      <td>NaN</td>\n",
              "      <td>2022-11-30 00:00:00</td>\n",
              "      <td>NaN</td>\n",
              "      <td>NaN</td>\n",
              "      <td>NaN</td>\n",
              "      <td>NaN</td>\n",
              "      <td>NaN</td>\n",
              "      <td>NaN</td>\n",
              "    </tr>\n",
              "    <tr>\n",
              "      <th>mean</th>\n",
              "      <td>NaN</td>\n",
              "      <td>NaN</td>\n",
              "      <td>NaN</td>\n",
              "      <td>NaN</td>\n",
              "      <td>NaN</td>\n",
              "      <td>15452.538481</td>\n",
              "      <td>NaN</td>\n",
              "      <td>NaN</td>\n",
              "    </tr>\n",
              "    <tr>\n",
              "      <th>std</th>\n",
              "      <td>NaN</td>\n",
              "      <td>NaN</td>\n",
              "      <td>NaN</td>\n",
              "      <td>NaN</td>\n",
              "      <td>NaN</td>\n",
              "      <td>9932.864159</td>\n",
              "      <td>NaN</td>\n",
              "      <td>NaN</td>\n",
              "    </tr>\n",
              "    <tr>\n",
              "      <th>min</th>\n",
              "      <td>NaN</td>\n",
              "      <td>NaN</td>\n",
              "      <td>NaN</td>\n",
              "      <td>NaN</td>\n",
              "      <td>NaN</td>\n",
              "      <td>100.000000</td>\n",
              "      <td>NaN</td>\n",
              "      <td>NaN</td>\n",
              "    </tr>\n",
              "    <tr>\n",
              "      <th>25%</th>\n",
              "      <td>NaN</td>\n",
              "      <td>NaN</td>\n",
              "      <td>NaN</td>\n",
              "      <td>NaN</td>\n",
              "      <td>NaN</td>\n",
              "      <td>9000.000000</td>\n",
              "      <td>NaN</td>\n",
              "      <td>NaN</td>\n",
              "    </tr>\n",
              "    <tr>\n",
              "      <th>50%</th>\n",
              "      <td>NaN</td>\n",
              "      <td>NaN</td>\n",
              "      <td>NaN</td>\n",
              "      <td>NaN</td>\n",
              "      <td>NaN</td>\n",
              "      <td>14000.000000</td>\n",
              "      <td>NaN</td>\n",
              "      <td>NaN</td>\n",
              "    </tr>\n",
              "    <tr>\n",
              "      <th>75%</th>\n",
              "      <td>NaN</td>\n",
              "      <td>NaN</td>\n",
              "      <td>NaN</td>\n",
              "      <td>NaN</td>\n",
              "      <td>NaN</td>\n",
              "      <td>19000.000000</td>\n",
              "      <td>NaN</td>\n",
              "      <td>NaN</td>\n",
              "    </tr>\n",
              "    <tr>\n",
              "      <th>max</th>\n",
              "      <td>NaN</td>\n",
              "      <td>NaN</td>\n",
              "      <td>NaN</td>\n",
              "      <td>NaN</td>\n",
              "      <td>NaN</td>\n",
              "      <td>248000.000000</td>\n",
              "      <td>NaN</td>\n",
              "      <td>NaN</td>\n",
              "    </tr>\n",
              "  </tbody>\n",
              "</table>\n",
              "</div>\n",
              "      <button class=\"colab-df-convert\" onclick=\"convertToInteractive('df-188d6043-3cff-433c-b7e5-f63b566ddc3e')\"\n",
              "              title=\"Convert this dataframe to an interactive table.\"\n",
              "              style=\"display:none;\">\n",
              "        \n",
              "  <svg xmlns=\"http://www.w3.org/2000/svg\" height=\"24px\"viewBox=\"0 0 24 24\"\n",
              "       width=\"24px\">\n",
              "    <path d=\"M0 0h24v24H0V0z\" fill=\"none\"/>\n",
              "    <path d=\"M18.56 5.44l.94 2.06.94-2.06 2.06-.94-2.06-.94-.94-2.06-.94 2.06-2.06.94zm-11 1L8.5 8.5l.94-2.06 2.06-.94-2.06-.94L8.5 2.5l-.94 2.06-2.06.94zm10 10l.94 2.06.94-2.06 2.06-.94-2.06-.94-.94-2.06-.94 2.06-2.06.94z\"/><path d=\"M17.41 7.96l-1.37-1.37c-.4-.4-.92-.59-1.43-.59-.52 0-1.04.2-1.43.59L10.3 9.45l-7.72 7.72c-.78.78-.78 2.05 0 2.83L4 21.41c.39.39.9.59 1.41.59.51 0 1.02-.2 1.41-.59l7.78-7.78 2.81-2.81c.8-.78.8-2.07 0-2.86zM5.41 20L4 18.59l7.72-7.72 1.47 1.35L5.41 20z\"/>\n",
              "  </svg>\n",
              "      </button>\n",
              "      \n",
              "  <style>\n",
              "    .colab-df-container {\n",
              "      display:flex;\n",
              "      flex-wrap:wrap;\n",
              "      gap: 12px;\n",
              "    }\n",
              "\n",
              "    .colab-df-convert {\n",
              "      background-color: #E8F0FE;\n",
              "      border: none;\n",
              "      border-radius: 50%;\n",
              "      cursor: pointer;\n",
              "      display: none;\n",
              "      fill: #1967D2;\n",
              "      height: 32px;\n",
              "      padding: 0 0 0 0;\n",
              "      width: 32px;\n",
              "    }\n",
              "\n",
              "    .colab-df-convert:hover {\n",
              "      background-color: #E2EBFA;\n",
              "      box-shadow: 0px 1px 2px rgba(60, 64, 67, 0.3), 0px 1px 3px 1px rgba(60, 64, 67, 0.15);\n",
              "      fill: #174EA6;\n",
              "    }\n",
              "\n",
              "    [theme=dark] .colab-df-convert {\n",
              "      background-color: #3B4455;\n",
              "      fill: #D2E3FC;\n",
              "    }\n",
              "\n",
              "    [theme=dark] .colab-df-convert:hover {\n",
              "      background-color: #434B5C;\n",
              "      box-shadow: 0px 1px 3px 1px rgba(0, 0, 0, 0.15);\n",
              "      filter: drop-shadow(0px 1px 2px rgba(0, 0, 0, 0.3));\n",
              "      fill: #FFFFFF;\n",
              "    }\n",
              "  </style>\n",
              "\n",
              "      <script>\n",
              "        const buttonEl =\n",
              "          document.querySelector('#df-188d6043-3cff-433c-b7e5-f63b566ddc3e button.colab-df-convert');\n",
              "        buttonEl.style.display =\n",
              "          google.colab.kernel.accessAllowed ? 'block' : 'none';\n",
              "\n",
              "        async function convertToInteractive(key) {\n",
              "          const element = document.querySelector('#df-188d6043-3cff-433c-b7e5-f63b566ddc3e');\n",
              "          const dataTable =\n",
              "            await google.colab.kernel.invokeFunction('convertToInteractive',\n",
              "                                                     [key], {});\n",
              "          if (!dataTable) return;\n",
              "\n",
              "          const docLinkHtml = 'Like what you see? Visit the ' +\n",
              "            '<a target=\"_blank\" href=https://colab.research.google.com/notebooks/data_table.ipynb>data table notebook</a>'\n",
              "            + ' to learn more about interactive tables.';\n",
              "          element.innerHTML = '';\n",
              "          dataTable['output_type'] = 'display_data';\n",
              "          await google.colab.output.renderOutput(dataTable, element);\n",
              "          const docLink = document.createElement('div');\n",
              "          docLink.innerHTML = docLinkHtml;\n",
              "          element.appendChild(docLink);\n",
              "        }\n",
              "      </script>\n",
              "    </div>\n",
              "  </div>\n",
              "  "
            ],
            "application/vnd.google.colaboratory.module+javascript": "\n      import \"https://ssl.gstatic.com/colaboratory/data_table/99dac6621f6ae8c4/data_table.js\";\n\n      window.createDataTable({\n        data: [[\"count\",\n32224,\n32224,\n32224,\n32224,\n32224,\n{\n            'v': 32224.0,\n            'f': \"32224.0\",\n        },\n32224,\n32224],\n [\"unique\",\n32224,\n211,\n7,\n727,\n4000,\n{\n            'v': NaN,\n            'f': \"NaN\",\n        },\n5,\n8],\n [\"top\",\n\"b8ddfc3a-ed30-4930-bc56-8c1c7cddaa99\",\n\"2022-11-29 00:00:00\",\n\"2022-11\",\n\"fbd559bb-f7b2-4250-8d6c-93524a169c3e\",\n\"76d5c8b0-7a5c-4d9d-aafb-8edc91a3de1e\",\n{\n            'v': NaN,\n            'f': \"NaN\",\n        },\n\"completed\",\n\"\\ud53d\\uc5c5\\uc874(\\uc720\\uc2b9\\uc0c1\\uac00)\"],\n [\"freq\",\n1,\n996,\n10037,\n206,\n165,\n{\n            'v': NaN,\n            'f': \"NaN\",\n        },\n29663,\n17615],\n [\"first\",\nNaN,\n\"2022-05-01 00:00:00\",\nNaN,\nNaN,\nNaN,\n{\n            'v': NaN,\n            'f': \"NaN\",\n        },\nNaN,\nNaN],\n [\"last\",\nNaN,\n\"2022-11-30 00:00:00\",\nNaN,\nNaN,\nNaN,\n{\n            'v': NaN,\n            'f': \"NaN\",\n        },\nNaN,\nNaN],\n [\"mean\",\nNaN,\nNaN,\nNaN,\nNaN,\nNaN,\n{\n            'v': 15452.53848063555,\n            'f': \"15452.53848063555\",\n        },\nNaN,\nNaN],\n [\"std\",\nNaN,\nNaN,\nNaN,\nNaN,\nNaN,\n{\n            'v': 9932.864159400122,\n            'f': \"9932.864159400122\",\n        },\nNaN,\nNaN],\n [\"min\",\nNaN,\nNaN,\nNaN,\nNaN,\nNaN,\n{\n            'v': 100.0,\n            'f': \"100.0\",\n        },\nNaN,\nNaN],\n [\"25%\",\nNaN,\nNaN,\nNaN,\nNaN,\nNaN,\n{\n            'v': 9000.0,\n            'f': \"9000.0\",\n        },\nNaN,\nNaN],\n [\"50%\",\nNaN,\nNaN,\nNaN,\nNaN,\nNaN,\n{\n            'v': 14000.0,\n            'f': \"14000.0\",\n        },\nNaN,\nNaN],\n [\"75%\",\nNaN,\nNaN,\nNaN,\nNaN,\nNaN,\n{\n            'v': 19000.0,\n            'f': \"19000.0\",\n        },\nNaN,\nNaN],\n [\"max\",\nNaN,\nNaN,\nNaN,\nNaN,\nNaN,\n{\n            'v': 248000.0,\n            'f': \"248000.0\",\n        },\nNaN,\nNaN]],\n        columns: [[\"string\", \"index\"], [\"string\", \"order_id\"], [\"string\", \"order_date\"], [\"string\", \"order_year_month\"], [\"string\", \"product_id\"], [\"string\", \"user_id\"], [\"number\", \"payment_amount\"], [\"string\", \"payment_status\"], [\"string\", \"pickup_shop_name\"]],\n        columnOptions: [{\"width\": \"1px\", \"className\": \"index_column\"}],\n        rowsPerPage: 25,\n        helpUrl: \"https://colab.research.google.com/notebooks/data_table.ipynb\",\n        suppressOutputScrolling: true,\n        minimumWidth: undefined,\n      });\n    "
          },
          "metadata": {},
          "execution_count": 13
        }
      ]
    },
    {
      "cell_type": "markdown",
      "source": [
        "## 데이터프레임의 컬럼별 타입 확인 - df.dtypes\n",
        "- 참고 : Pandas는 문자열 자료형을 `object라는` 이름으로 인식하고, Python은 `string`이라는 이름으로 인식"
      ],
      "metadata": {
        "id": "60nHPUjRaLNr"
      }
    },
    {
      "cell_type": "code",
      "source": [
        "print(ordersDf.dtypes)"
      ],
      "metadata": {
        "id": "jQbpoVRO6ysp",
        "colab": {
          "base_uri": "https://localhost:8080/"
        },
        "outputId": "d7d0b3af-f258-4841-ba38-ae9b8bd9daea"
      },
      "execution_count": null,
      "outputs": [
        {
          "output_type": "stream",
          "name": "stdout",
          "text": [
            "order_id                    object\n",
            "order_date          datetime64[ns]\n",
            "order_year_month            object\n",
            "product_id                  object\n",
            "user_id                     object\n",
            "payment_amount               Int64\n",
            "payment_status              object\n",
            "pickup_shop_name            object\n",
            "dtype: object\n"
          ]
        }
      ]
    },
    {
      "cell_type": "markdown",
      "source": [
        "## 데이터프레임의 (행x열) 크기 확인 - df.shape ⭐️\n",
        "- 함수가 아닌 DataFrame의 속성(Attributes)을 확인하는 경우는 ()를 붙이지 않습니다.\n",
        "- loc[], iloc[] 처럼 속성 사용시 대괄호가 붙는 경우도 있으니 속성별 사용방법은 공식문서를 참고해주세요 💪\n",
        "- [참고] 공식문서 : https://pandas.pydata.org/docs/reference/api/pandas.DataFrame.html"
      ],
      "metadata": {
        "id": "TGEdf1tkaUoC"
      }
    },
    {
      "cell_type": "code",
      "source": [
        "print(ordersDf.shape) # (행 크기, 열 크기)"
      ],
      "metadata": {
        "id": "I7RD2wnK6iwJ",
        "colab": {
          "base_uri": "https://localhost:8080/"
        },
        "outputId": "6dd5a3a3-cf57-4e8d-941d-aceee78dcd60"
      },
      "execution_count": null,
      "outputs": [
        {
          "output_type": "stream",
          "name": "stdout",
          "text": [
            "(32224, 8)\n"
          ]
        }
      ]
    },
    {
      "cell_type": "markdown",
      "source": [
        "## 데이터프레임의 컬럼명 확인 - df.columns"
      ],
      "metadata": {
        "id": "Oz_duHnOaaPY"
      }
    },
    {
      "cell_type": "code",
      "source": [
        "print(ordersDf.columns)"
      ],
      "metadata": {
        "id": "eXb8T7jv6yqU",
        "colab": {
          "base_uri": "https://localhost:8080/"
        },
        "outputId": "81282080-798e-4e05-8311-ce4495b87091"
      },
      "execution_count": null,
      "outputs": [
        {
          "output_type": "stream",
          "name": "stdout",
          "text": [
            "Index(['order_id', 'order_date', 'order_year_month', 'product_id', 'user_id',\n",
            "       'payment_amount', 'payment_status', 'pickup_shop_name'],\n",
            "      dtype='object')\n"
          ]
        }
      ]
    },
    {
      "cell_type": "markdown",
      "source": [
        "# 데이터 정렬하기"
      ],
      "metadata": {
        "id": "IKE8PrzLJ41b"
      }
    },
    {
      "cell_type": "markdown",
      "source": [
        "## 인덱스 정렬 - sort_indx()\n",
        "- 인덱스를 기준으로 데이터를 정렬합니다.\n",
        "- 기본 정렬은 오름차순이며, `ascending=False`를 통해 내림차순 정렬 가능."
      ],
      "metadata": {
        "id": "r1XtdO7zKCFI"
      }
    },
    {
      "cell_type": "code",
      "source": [
        "# << 샵별 상품별 주문건수 데이터프레임 생성 >>\n",
        "shopAndProductCountDf = ordersDf[['pickup_shop_name', 'product_id']].value_counts().to_frame().reset_index().rename(columns={0:'order_count'}) \n",
        "# shopAndProductCountDf\n",
        "# << index 값을 기준으로 정렬 >>\n",
        "shopAndProductCountDf.sort_index(ascending=False).head()"
      ],
      "metadata": {
        "id": "Loj2161NKBh8",
        "colab": {
          "base_uri": "https://localhost:8080/",
          "height": 197
        },
        "outputId": "0424895f-ff97-4a48-feb1-af06def5b09b"
      },
      "execution_count": null,
      "outputs": [
        {
          "output_type": "execute_result",
          "data": {
            "text/plain": [
              "     pickup_shop_name                            product_id  order_count\n",
              "3004  픽업존(GS25 목동3동점)  013fa1a7-f554-467c-ba15-30fd4b8033e7            1\n",
              "3003       픽업존(메이비카페)  43be56c2-66bf-4295-ac44-403ad4c5a324            1\n",
              "3002   픽업존(참맛부대찌개아구찜)  595faf72-255a-4790-a8fb-cfff627e9ae9            1\n",
              "3001        픽업존(유승상가)  8022693b-4f50-4a79-924f-47b5265bac46            1\n",
              "3000       픽업존(메이비카페)  4912ff5d-00bb-4faf-b82f-d9b11c84c668            1"
            ],
            "text/html": [
              "\n",
              "  <div id=\"df-08876fd9-5c45-4141-bfdc-e12999ca925e\">\n",
              "    <div class=\"colab-df-container\">\n",
              "      <div>\n",
              "<style scoped>\n",
              "    .dataframe tbody tr th:only-of-type {\n",
              "        vertical-align: middle;\n",
              "    }\n",
              "\n",
              "    .dataframe tbody tr th {\n",
              "        vertical-align: top;\n",
              "    }\n",
              "\n",
              "    .dataframe thead th {\n",
              "        text-align: right;\n",
              "    }\n",
              "</style>\n",
              "<table border=\"1\" class=\"dataframe\">\n",
              "  <thead>\n",
              "    <tr style=\"text-align: right;\">\n",
              "      <th></th>\n",
              "      <th>pickup_shop_name</th>\n",
              "      <th>product_id</th>\n",
              "      <th>order_count</th>\n",
              "    </tr>\n",
              "  </thead>\n",
              "  <tbody>\n",
              "    <tr>\n",
              "      <th>3004</th>\n",
              "      <td>픽업존(GS25 목동3동점)</td>\n",
              "      <td>013fa1a7-f554-467c-ba15-30fd4b8033e7</td>\n",
              "      <td>1</td>\n",
              "    </tr>\n",
              "    <tr>\n",
              "      <th>3003</th>\n",
              "      <td>픽업존(메이비카페)</td>\n",
              "      <td>43be56c2-66bf-4295-ac44-403ad4c5a324</td>\n",
              "      <td>1</td>\n",
              "    </tr>\n",
              "    <tr>\n",
              "      <th>3002</th>\n",
              "      <td>픽업존(참맛부대찌개아구찜)</td>\n",
              "      <td>595faf72-255a-4790-a8fb-cfff627e9ae9</td>\n",
              "      <td>1</td>\n",
              "    </tr>\n",
              "    <tr>\n",
              "      <th>3001</th>\n",
              "      <td>픽업존(유승상가)</td>\n",
              "      <td>8022693b-4f50-4a79-924f-47b5265bac46</td>\n",
              "      <td>1</td>\n",
              "    </tr>\n",
              "    <tr>\n",
              "      <th>3000</th>\n",
              "      <td>픽업존(메이비카페)</td>\n",
              "      <td>4912ff5d-00bb-4faf-b82f-d9b11c84c668</td>\n",
              "      <td>1</td>\n",
              "    </tr>\n",
              "  </tbody>\n",
              "</table>\n",
              "</div>\n",
              "      <button class=\"colab-df-convert\" onclick=\"convertToInteractive('df-08876fd9-5c45-4141-bfdc-e12999ca925e')\"\n",
              "              title=\"Convert this dataframe to an interactive table.\"\n",
              "              style=\"display:none;\">\n",
              "        \n",
              "  <svg xmlns=\"http://www.w3.org/2000/svg\" height=\"24px\"viewBox=\"0 0 24 24\"\n",
              "       width=\"24px\">\n",
              "    <path d=\"M0 0h24v24H0V0z\" fill=\"none\"/>\n",
              "    <path d=\"M18.56 5.44l.94 2.06.94-2.06 2.06-.94-2.06-.94-.94-2.06-.94 2.06-2.06.94zm-11 1L8.5 8.5l.94-2.06 2.06-.94-2.06-.94L8.5 2.5l-.94 2.06-2.06.94zm10 10l.94 2.06.94-2.06 2.06-.94-2.06-.94-.94-2.06-.94 2.06-2.06.94z\"/><path d=\"M17.41 7.96l-1.37-1.37c-.4-.4-.92-.59-1.43-.59-.52 0-1.04.2-1.43.59L10.3 9.45l-7.72 7.72c-.78.78-.78 2.05 0 2.83L4 21.41c.39.39.9.59 1.41.59.51 0 1.02-.2 1.41-.59l7.78-7.78 2.81-2.81c.8-.78.8-2.07 0-2.86zM5.41 20L4 18.59l7.72-7.72 1.47 1.35L5.41 20z\"/>\n",
              "  </svg>\n",
              "      </button>\n",
              "      \n",
              "  <style>\n",
              "    .colab-df-container {\n",
              "      display:flex;\n",
              "      flex-wrap:wrap;\n",
              "      gap: 12px;\n",
              "    }\n",
              "\n",
              "    .colab-df-convert {\n",
              "      background-color: #E8F0FE;\n",
              "      border: none;\n",
              "      border-radius: 50%;\n",
              "      cursor: pointer;\n",
              "      display: none;\n",
              "      fill: #1967D2;\n",
              "      height: 32px;\n",
              "      padding: 0 0 0 0;\n",
              "      width: 32px;\n",
              "    }\n",
              "\n",
              "    .colab-df-convert:hover {\n",
              "      background-color: #E2EBFA;\n",
              "      box-shadow: 0px 1px 2px rgba(60, 64, 67, 0.3), 0px 1px 3px 1px rgba(60, 64, 67, 0.15);\n",
              "      fill: #174EA6;\n",
              "    }\n",
              "\n",
              "    [theme=dark] .colab-df-convert {\n",
              "      background-color: #3B4455;\n",
              "      fill: #D2E3FC;\n",
              "    }\n",
              "\n",
              "    [theme=dark] .colab-df-convert:hover {\n",
              "      background-color: #434B5C;\n",
              "      box-shadow: 0px 1px 3px 1px rgba(0, 0, 0, 0.15);\n",
              "      filter: drop-shadow(0px 1px 2px rgba(0, 0, 0, 0.3));\n",
              "      fill: #FFFFFF;\n",
              "    }\n",
              "  </style>\n",
              "\n",
              "      <script>\n",
              "        const buttonEl =\n",
              "          document.querySelector('#df-08876fd9-5c45-4141-bfdc-e12999ca925e button.colab-df-convert');\n",
              "        buttonEl.style.display =\n",
              "          google.colab.kernel.accessAllowed ? 'block' : 'none';\n",
              "\n",
              "        async function convertToInteractive(key) {\n",
              "          const element = document.querySelector('#df-08876fd9-5c45-4141-bfdc-e12999ca925e');\n",
              "          const dataTable =\n",
              "            await google.colab.kernel.invokeFunction('convertToInteractive',\n",
              "                                                     [key], {});\n",
              "          if (!dataTable) return;\n",
              "\n",
              "          const docLinkHtml = 'Like what you see? Visit the ' +\n",
              "            '<a target=\"_blank\" href=https://colab.research.google.com/notebooks/data_table.ipynb>data table notebook</a>'\n",
              "            + ' to learn more about interactive tables.';\n",
              "          element.innerHTML = '';\n",
              "          dataTable['output_type'] = 'display_data';\n",
              "          await google.colab.output.renderOutput(dataTable, element);\n",
              "          const docLink = document.createElement('div');\n",
              "          docLink.innerHTML = docLinkHtml;\n",
              "          element.appendChild(docLink);\n",
              "        }\n",
              "      </script>\n",
              "    </div>\n",
              "  </div>\n",
              "  "
            ],
            "application/vnd.google.colaboratory.module+javascript": "\n      import \"https://ssl.gstatic.com/colaboratory/data_table/99dac6621f6ae8c4/data_table.js\";\n\n      window.createDataTable({\n        data: [[{\n            'v': 3004,\n            'f': \"3004\",\n        },\n\"\\ud53d\\uc5c5\\uc874(GS25 \\ubaa9\\ub3d93\\ub3d9\\uc810)\",\n\"013fa1a7-f554-467c-ba15-30fd4b8033e7\",\n{\n            'v': 1,\n            'f': \"1\",\n        }],\n [{\n            'v': 3003,\n            'f': \"3003\",\n        },\n\"\\ud53d\\uc5c5\\uc874(\\uba54\\uc774\\ube44\\uce74\\ud398)\",\n\"43be56c2-66bf-4295-ac44-403ad4c5a324\",\n{\n            'v': 1,\n            'f': \"1\",\n        }],\n [{\n            'v': 3002,\n            'f': \"3002\",\n        },\n\"\\ud53d\\uc5c5\\uc874(\\ucc38\\ub9db\\ubd80\\ub300\\ucc0c\\uac1c\\uc544\\uad6c\\ucc1c)\",\n\"595faf72-255a-4790-a8fb-cfff627e9ae9\",\n{\n            'v': 1,\n            'f': \"1\",\n        }],\n [{\n            'v': 3001,\n            'f': \"3001\",\n        },\n\"\\ud53d\\uc5c5\\uc874(\\uc720\\uc2b9\\uc0c1\\uac00)\",\n\"8022693b-4f50-4a79-924f-47b5265bac46\",\n{\n            'v': 1,\n            'f': \"1\",\n        }],\n [{\n            'v': 3000,\n            'f': \"3000\",\n        },\n\"\\ud53d\\uc5c5\\uc874(\\uba54\\uc774\\ube44\\uce74\\ud398)\",\n\"4912ff5d-00bb-4faf-b82f-d9b11c84c668\",\n{\n            'v': 1,\n            'f': \"1\",\n        }]],\n        columns: [[\"number\", \"index\"], [\"string\", \"pickup_shop_name\"], [\"string\", \"product_id\"], [\"number\", \"order_count\"]],\n        columnOptions: [{\"width\": \"1px\", \"className\": \"index_column\"}],\n        rowsPerPage: 25,\n        helpUrl: \"https://colab.research.google.com/notebooks/data_table.ipynb\",\n        suppressOutputScrolling: true,\n        minimumWidth: undefined,\n      });\n    "
          },
          "metadata": {},
          "execution_count": 15
        }
      ]
    },
    {
      "cell_type": "markdown",
      "source": [
        "## 값 정렬 - sort_values() ⭐️\n",
        "- 값을 기준으로 정렬되며 기준값은 by로 설정합니다.\n",
        "- by에는 2개 이상의 컬럼을 설정할 수 있습니다.\n",
        "- 기본 정렬은 오름차순이며, `ascending=False`를 통해 내림차순 정렬 적용 가능."
      ],
      "metadata": {
        "id": "CidXXH1GKLFI"
      }
    },
    {
      "cell_type": "code",
      "source": [
        "# << 단일컬럼 정렬 >>\n",
        "shopAndProductCountDf.sort_values(by='order_count', ascending=False).head()\n",
        "\n",
        "# << 다중컬럼 정렬 >>\n",
        "# shopAndProductCountDf.sort_values(by=['pickup_shop_name', 'order_count'], ascending=False).head()\n",
        "\n",
        "# << 다중컬럼 정렬 - 컬럼별 정렬순서 설정 >>\n",
        "# shopAndProductCountDf.sort_values(by=['pickup_shop_name', 'order_count'], ascending=[True, False]).head() # 컬럼별 정렬 개별적용도 가능"
      ],
      "metadata": {
        "id": "1eZFFafLJ9s3",
        "colab": {
          "base_uri": "https://localhost:8080/",
          "height": 197
        },
        "outputId": "7eb77690-d094-4f91-b607-01c509c982f1"
      },
      "execution_count": null,
      "outputs": [
        {
          "output_type": "execute_result",
          "data": {
            "text/plain": [
              "  pickup_shop_name                            product_id  order_count\n",
              "0        픽업존(유승상가)  fbd559bb-f7b2-4250-8d6c-93524a169c3e          206\n",
              "1        픽업존(유승상가)  d01198e1-d827-4d82-8301-918757895020          170\n",
              "2        픽업존(유승상가)  b2672cda-3977-45df-8046-dca95a826017          158\n",
              "3        픽업존(유승상가)  2d335dd0-4bdc-41be-99ac-5d4da2727778          154\n",
              "4        픽업존(유승상가)  8e1db1bf-f4f4-43c1-b258-bc1e0ee8162c          146"
            ],
            "text/html": [
              "\n",
              "  <div id=\"df-7238d878-4d41-4f4c-a502-9a4e6197ceda\">\n",
              "    <div class=\"colab-df-container\">\n",
              "      <div>\n",
              "<style scoped>\n",
              "    .dataframe tbody tr th:only-of-type {\n",
              "        vertical-align: middle;\n",
              "    }\n",
              "\n",
              "    .dataframe tbody tr th {\n",
              "        vertical-align: top;\n",
              "    }\n",
              "\n",
              "    .dataframe thead th {\n",
              "        text-align: right;\n",
              "    }\n",
              "</style>\n",
              "<table border=\"1\" class=\"dataframe\">\n",
              "  <thead>\n",
              "    <tr style=\"text-align: right;\">\n",
              "      <th></th>\n",
              "      <th>pickup_shop_name</th>\n",
              "      <th>product_id</th>\n",
              "      <th>order_count</th>\n",
              "    </tr>\n",
              "  </thead>\n",
              "  <tbody>\n",
              "    <tr>\n",
              "      <th>0</th>\n",
              "      <td>픽업존(유승상가)</td>\n",
              "      <td>fbd559bb-f7b2-4250-8d6c-93524a169c3e</td>\n",
              "      <td>206</td>\n",
              "    </tr>\n",
              "    <tr>\n",
              "      <th>1</th>\n",
              "      <td>픽업존(유승상가)</td>\n",
              "      <td>d01198e1-d827-4d82-8301-918757895020</td>\n",
              "      <td>170</td>\n",
              "    </tr>\n",
              "    <tr>\n",
              "      <th>2</th>\n",
              "      <td>픽업존(유승상가)</td>\n",
              "      <td>b2672cda-3977-45df-8046-dca95a826017</td>\n",
              "      <td>158</td>\n",
              "    </tr>\n",
              "    <tr>\n",
              "      <th>3</th>\n",
              "      <td>픽업존(유승상가)</td>\n",
              "      <td>2d335dd0-4bdc-41be-99ac-5d4da2727778</td>\n",
              "      <td>154</td>\n",
              "    </tr>\n",
              "    <tr>\n",
              "      <th>4</th>\n",
              "      <td>픽업존(유승상가)</td>\n",
              "      <td>8e1db1bf-f4f4-43c1-b258-bc1e0ee8162c</td>\n",
              "      <td>146</td>\n",
              "    </tr>\n",
              "  </tbody>\n",
              "</table>\n",
              "</div>\n",
              "      <button class=\"colab-df-convert\" onclick=\"convertToInteractive('df-7238d878-4d41-4f4c-a502-9a4e6197ceda')\"\n",
              "              title=\"Convert this dataframe to an interactive table.\"\n",
              "              style=\"display:none;\">\n",
              "        \n",
              "  <svg xmlns=\"http://www.w3.org/2000/svg\" height=\"24px\"viewBox=\"0 0 24 24\"\n",
              "       width=\"24px\">\n",
              "    <path d=\"M0 0h24v24H0V0z\" fill=\"none\"/>\n",
              "    <path d=\"M18.56 5.44l.94 2.06.94-2.06 2.06-.94-2.06-.94-.94-2.06-.94 2.06-2.06.94zm-11 1L8.5 8.5l.94-2.06 2.06-.94-2.06-.94L8.5 2.5l-.94 2.06-2.06.94zm10 10l.94 2.06.94-2.06 2.06-.94-2.06-.94-.94-2.06-.94 2.06-2.06.94z\"/><path d=\"M17.41 7.96l-1.37-1.37c-.4-.4-.92-.59-1.43-.59-.52 0-1.04.2-1.43.59L10.3 9.45l-7.72 7.72c-.78.78-.78 2.05 0 2.83L4 21.41c.39.39.9.59 1.41.59.51 0 1.02-.2 1.41-.59l7.78-7.78 2.81-2.81c.8-.78.8-2.07 0-2.86zM5.41 20L4 18.59l7.72-7.72 1.47 1.35L5.41 20z\"/>\n",
              "  </svg>\n",
              "      </button>\n",
              "      \n",
              "  <style>\n",
              "    .colab-df-container {\n",
              "      display:flex;\n",
              "      flex-wrap:wrap;\n",
              "      gap: 12px;\n",
              "    }\n",
              "\n",
              "    .colab-df-convert {\n",
              "      background-color: #E8F0FE;\n",
              "      border: none;\n",
              "      border-radius: 50%;\n",
              "      cursor: pointer;\n",
              "      display: none;\n",
              "      fill: #1967D2;\n",
              "      height: 32px;\n",
              "      padding: 0 0 0 0;\n",
              "      width: 32px;\n",
              "    }\n",
              "\n",
              "    .colab-df-convert:hover {\n",
              "      background-color: #E2EBFA;\n",
              "      box-shadow: 0px 1px 2px rgba(60, 64, 67, 0.3), 0px 1px 3px 1px rgba(60, 64, 67, 0.15);\n",
              "      fill: #174EA6;\n",
              "    }\n",
              "\n",
              "    [theme=dark] .colab-df-convert {\n",
              "      background-color: #3B4455;\n",
              "      fill: #D2E3FC;\n",
              "    }\n",
              "\n",
              "    [theme=dark] .colab-df-convert:hover {\n",
              "      background-color: #434B5C;\n",
              "      box-shadow: 0px 1px 3px 1px rgba(0, 0, 0, 0.15);\n",
              "      filter: drop-shadow(0px 1px 2px rgba(0, 0, 0, 0.3));\n",
              "      fill: #FFFFFF;\n",
              "    }\n",
              "  </style>\n",
              "\n",
              "      <script>\n",
              "        const buttonEl =\n",
              "          document.querySelector('#df-7238d878-4d41-4f4c-a502-9a4e6197ceda button.colab-df-convert');\n",
              "        buttonEl.style.display =\n",
              "          google.colab.kernel.accessAllowed ? 'block' : 'none';\n",
              "\n",
              "        async function convertToInteractive(key) {\n",
              "          const element = document.querySelector('#df-7238d878-4d41-4f4c-a502-9a4e6197ceda');\n",
              "          const dataTable =\n",
              "            await google.colab.kernel.invokeFunction('convertToInteractive',\n",
              "                                                     [key], {});\n",
              "          if (!dataTable) return;\n",
              "\n",
              "          const docLinkHtml = 'Like what you see? Visit the ' +\n",
              "            '<a target=\"_blank\" href=https://colab.research.google.com/notebooks/data_table.ipynb>data table notebook</a>'\n",
              "            + ' to learn more about interactive tables.';\n",
              "          element.innerHTML = '';\n",
              "          dataTable['output_type'] = 'display_data';\n",
              "          await google.colab.output.renderOutput(dataTable, element);\n",
              "          const docLink = document.createElement('div');\n",
              "          docLink.innerHTML = docLinkHtml;\n",
              "          element.appendChild(docLink);\n",
              "        }\n",
              "      </script>\n",
              "    </div>\n",
              "  </div>\n",
              "  "
            ],
            "application/vnd.google.colaboratory.module+javascript": "\n      import \"https://ssl.gstatic.com/colaboratory/data_table/99dac6621f6ae8c4/data_table.js\";\n\n      window.createDataTable({\n        data: [[{\n            'v': 0,\n            'f': \"0\",\n        },\n\"\\ud53d\\uc5c5\\uc874(\\uc720\\uc2b9\\uc0c1\\uac00)\",\n\"fbd559bb-f7b2-4250-8d6c-93524a169c3e\",\n{\n            'v': 206,\n            'f': \"206\",\n        }],\n [{\n            'v': 1,\n            'f': \"1\",\n        },\n\"\\ud53d\\uc5c5\\uc874(\\uc720\\uc2b9\\uc0c1\\uac00)\",\n\"d01198e1-d827-4d82-8301-918757895020\",\n{\n            'v': 170,\n            'f': \"170\",\n        }],\n [{\n            'v': 2,\n            'f': \"2\",\n        },\n\"\\ud53d\\uc5c5\\uc874(\\uc720\\uc2b9\\uc0c1\\uac00)\",\n\"b2672cda-3977-45df-8046-dca95a826017\",\n{\n            'v': 158,\n            'f': \"158\",\n        }],\n [{\n            'v': 3,\n            'f': \"3\",\n        },\n\"\\ud53d\\uc5c5\\uc874(\\uc720\\uc2b9\\uc0c1\\uac00)\",\n\"2d335dd0-4bdc-41be-99ac-5d4da2727778\",\n{\n            'v': 154,\n            'f': \"154\",\n        }],\n [{\n            'v': 4,\n            'f': \"4\",\n        },\n\"\\ud53d\\uc5c5\\uc874(\\uc720\\uc2b9\\uc0c1\\uac00)\",\n\"8e1db1bf-f4f4-43c1-b258-bc1e0ee8162c\",\n{\n            'v': 146,\n            'f': \"146\",\n        }]],\n        columns: [[\"number\", \"index\"], [\"string\", \"pickup_shop_name\"], [\"string\", \"product_id\"], [\"number\", \"order_count\"]],\n        columnOptions: [{\"width\": \"1px\", \"className\": \"index_column\"}],\n        rowsPerPage: 25,\n        helpUrl: \"https://colab.research.google.com/notebooks/data_table.ipynb\",\n        suppressOutputScrolling: true,\n        minimumWidth: undefined,\n      });\n    "
          },
          "metadata": {},
          "execution_count": 16
        }
      ]
    },
    {
      "cell_type": "markdown",
      "source": [
        "# 데이터 뽑아내기 & 핸들링 하기"
      ],
      "metadata": {
        "id": "V34Lf6KI8ISw"
      }
    },
    {
      "cell_type": "markdown",
      "source": [
        "## 데이터프레임에서 일부 컬럼을 선택 ⭐️\n",
        "- 데이터프레임에서 하나의 컬럼을 선택하면 `Series` 형태가 됩니다.\n",
        "- 데이터프레임에서 두개 이상의 컬럼을 선택하면 `DataFrame` 형태가 됩니다."
      ],
      "metadata": {
        "id": "vjcBqUqhajHp"
      }
    },
    {
      "cell_type": "code",
      "source": [
        "# << 데이터프레임에서 단일컬럼 뽑아내기 >>\n",
        "orderIdDf = ordersDf['order_id'] # 하나의 열만 선택해서 orderIdDf에 할당하는 경우\n",
        "orderIdDf.head() # Series도 head, tail 메소드를 가지고 있기 때문에. DataFrame과 동일하게 사용 가능\n",
        "\n",
        "# << orderIdDf의 타입 확인 >>\n",
        "# print(type(orderIdDf))"
      ],
      "metadata": {
        "id": "aRiQ33A96yvA",
        "colab": {
          "base_uri": "https://localhost:8080/"
        },
        "outputId": "4a4897b1-a71d-417b-d9c1-f4249c962bcb"
      },
      "execution_count": null,
      "outputs": [
        {
          "output_type": "execute_result",
          "data": {
            "text/plain": [
              "0    b8ddfc3a-ed30-4930-bc56-8c1c7cddaa99\n",
              "1    23dd5859-7d76-4015-a6aa-5cb732696664\n",
              "2    2bff505e-3095-424b-8d53-905cb23d45b0\n",
              "3    a3c4bdde-8feb-4153-9ea4-f6002df2e8db\n",
              "4    30f75de2-8e7c-4927-86e9-db27ce93eac5\n",
              "Name: order_id, dtype: object"
            ]
          },
          "metadata": {},
          "execution_count": 17
        }
      ]
    },
    {
      "cell_type": "code",
      "source": [
        "# << 데이터프레임에서 다중컬럼 뽑아내기 >>\n",
        "subOrdersDf = ordersDf[['order_id', 'order_date', 'user_id', 'payment_amount']] # 다수의 컬럼을 선택할때는 리스트[] 안에 컬럼을 감싼 상태로 전달해야 합니다.\n",
        "subOrdersDf.head(3)\n",
        "\n",
        "# << subOrdersDf의 타입 확인 >>\n",
        "# print(subOrdersDf.dtypes)\n",
        "# print(type(subOrdersDf)) "
      ],
      "metadata": {
        "id": "hm-VdG3q6yxG",
        "colab": {
          "base_uri": "https://localhost:8080/",
          "height": 154
        },
        "outputId": "0501d335-a1ea-4e4a-eac2-2b4af3f45497"
      },
      "execution_count": null,
      "outputs": [
        {
          "output_type": "execute_result",
          "data": {
            "text/plain": [
              "                               order_id order_date  \\\n",
              "0  b8ddfc3a-ed30-4930-bc56-8c1c7cddaa99 2022-11-20   \n",
              "1  23dd5859-7d76-4015-a6aa-5cb732696664 2022-11-14   \n",
              "2  2bff505e-3095-424b-8d53-905cb23d45b0 2022-11-14   \n",
              "\n",
              "                                user_id  payment_amount  \n",
              "0  261f2168-9f42-4a51-8548-7f3edf5d7ed9           20500  \n",
              "1  91b19fb3-1c79-4577-9f6c-6b05c870344a           10000  \n",
              "2  b6b68b58-ce02-4311-8673-76e658d81ed4           20000  "
            ],
            "text/html": [
              "\n",
              "  <div id=\"df-2fd80592-7e94-43c0-94b2-4b2a9cdba543\">\n",
              "    <div class=\"colab-df-container\">\n",
              "      <div>\n",
              "<style scoped>\n",
              "    .dataframe tbody tr th:only-of-type {\n",
              "        vertical-align: middle;\n",
              "    }\n",
              "\n",
              "    .dataframe tbody tr th {\n",
              "        vertical-align: top;\n",
              "    }\n",
              "\n",
              "    .dataframe thead th {\n",
              "        text-align: right;\n",
              "    }\n",
              "</style>\n",
              "<table border=\"1\" class=\"dataframe\">\n",
              "  <thead>\n",
              "    <tr style=\"text-align: right;\">\n",
              "      <th></th>\n",
              "      <th>order_id</th>\n",
              "      <th>order_date</th>\n",
              "      <th>user_id</th>\n",
              "      <th>payment_amount</th>\n",
              "    </tr>\n",
              "  </thead>\n",
              "  <tbody>\n",
              "    <tr>\n",
              "      <th>0</th>\n",
              "      <td>b8ddfc3a-ed30-4930-bc56-8c1c7cddaa99</td>\n",
              "      <td>2022-11-20</td>\n",
              "      <td>261f2168-9f42-4a51-8548-7f3edf5d7ed9</td>\n",
              "      <td>20500</td>\n",
              "    </tr>\n",
              "    <tr>\n",
              "      <th>1</th>\n",
              "      <td>23dd5859-7d76-4015-a6aa-5cb732696664</td>\n",
              "      <td>2022-11-14</td>\n",
              "      <td>91b19fb3-1c79-4577-9f6c-6b05c870344a</td>\n",
              "      <td>10000</td>\n",
              "    </tr>\n",
              "    <tr>\n",
              "      <th>2</th>\n",
              "      <td>2bff505e-3095-424b-8d53-905cb23d45b0</td>\n",
              "      <td>2022-11-14</td>\n",
              "      <td>b6b68b58-ce02-4311-8673-76e658d81ed4</td>\n",
              "      <td>20000</td>\n",
              "    </tr>\n",
              "  </tbody>\n",
              "</table>\n",
              "</div>\n",
              "      <button class=\"colab-df-convert\" onclick=\"convertToInteractive('df-2fd80592-7e94-43c0-94b2-4b2a9cdba543')\"\n",
              "              title=\"Convert this dataframe to an interactive table.\"\n",
              "              style=\"display:none;\">\n",
              "        \n",
              "  <svg xmlns=\"http://www.w3.org/2000/svg\" height=\"24px\"viewBox=\"0 0 24 24\"\n",
              "       width=\"24px\">\n",
              "    <path d=\"M0 0h24v24H0V0z\" fill=\"none\"/>\n",
              "    <path d=\"M18.56 5.44l.94 2.06.94-2.06 2.06-.94-2.06-.94-.94-2.06-.94 2.06-2.06.94zm-11 1L8.5 8.5l.94-2.06 2.06-.94-2.06-.94L8.5 2.5l-.94 2.06-2.06.94zm10 10l.94 2.06.94-2.06 2.06-.94-2.06-.94-.94-2.06-.94 2.06-2.06.94z\"/><path d=\"M17.41 7.96l-1.37-1.37c-.4-.4-.92-.59-1.43-.59-.52 0-1.04.2-1.43.59L10.3 9.45l-7.72 7.72c-.78.78-.78 2.05 0 2.83L4 21.41c.39.39.9.59 1.41.59.51 0 1.02-.2 1.41-.59l7.78-7.78 2.81-2.81c.8-.78.8-2.07 0-2.86zM5.41 20L4 18.59l7.72-7.72 1.47 1.35L5.41 20z\"/>\n",
              "  </svg>\n",
              "      </button>\n",
              "      \n",
              "  <style>\n",
              "    .colab-df-container {\n",
              "      display:flex;\n",
              "      flex-wrap:wrap;\n",
              "      gap: 12px;\n",
              "    }\n",
              "\n",
              "    .colab-df-convert {\n",
              "      background-color: #E8F0FE;\n",
              "      border: none;\n",
              "      border-radius: 50%;\n",
              "      cursor: pointer;\n",
              "      display: none;\n",
              "      fill: #1967D2;\n",
              "      height: 32px;\n",
              "      padding: 0 0 0 0;\n",
              "      width: 32px;\n",
              "    }\n",
              "\n",
              "    .colab-df-convert:hover {\n",
              "      background-color: #E2EBFA;\n",
              "      box-shadow: 0px 1px 2px rgba(60, 64, 67, 0.3), 0px 1px 3px 1px rgba(60, 64, 67, 0.15);\n",
              "      fill: #174EA6;\n",
              "    }\n",
              "\n",
              "    [theme=dark] .colab-df-convert {\n",
              "      background-color: #3B4455;\n",
              "      fill: #D2E3FC;\n",
              "    }\n",
              "\n",
              "    [theme=dark] .colab-df-convert:hover {\n",
              "      background-color: #434B5C;\n",
              "      box-shadow: 0px 1px 3px 1px rgba(0, 0, 0, 0.15);\n",
              "      filter: drop-shadow(0px 1px 2px rgba(0, 0, 0, 0.3));\n",
              "      fill: #FFFFFF;\n",
              "    }\n",
              "  </style>\n",
              "\n",
              "      <script>\n",
              "        const buttonEl =\n",
              "          document.querySelector('#df-2fd80592-7e94-43c0-94b2-4b2a9cdba543 button.colab-df-convert');\n",
              "        buttonEl.style.display =\n",
              "          google.colab.kernel.accessAllowed ? 'block' : 'none';\n",
              "\n",
              "        async function convertToInteractive(key) {\n",
              "          const element = document.querySelector('#df-2fd80592-7e94-43c0-94b2-4b2a9cdba543');\n",
              "          const dataTable =\n",
              "            await google.colab.kernel.invokeFunction('convertToInteractive',\n",
              "                                                     [key], {});\n",
              "          if (!dataTable) return;\n",
              "\n",
              "          const docLinkHtml = 'Like what you see? Visit the ' +\n",
              "            '<a target=\"_blank\" href=https://colab.research.google.com/notebooks/data_table.ipynb>data table notebook</a>'\n",
              "            + ' to learn more about interactive tables.';\n",
              "          element.innerHTML = '';\n",
              "          dataTable['output_type'] = 'display_data';\n",
              "          await google.colab.output.renderOutput(dataTable, element);\n",
              "          const docLink = document.createElement('div');\n",
              "          docLink.innerHTML = docLinkHtml;\n",
              "          element.appendChild(docLink);\n",
              "        }\n",
              "      </script>\n",
              "    </div>\n",
              "  </div>\n",
              "  "
            ],
            "application/vnd.google.colaboratory.module+javascript": "\n      import \"https://ssl.gstatic.com/colaboratory/data_table/99dac6621f6ae8c4/data_table.js\";\n\n      window.createDataTable({\n        data: [[{\n            'v': 0,\n            'f': \"0\",\n        },\n\"b8ddfc3a-ed30-4930-bc56-8c1c7cddaa99\",\n\"2022-11-20 00:00:00\",\n\"261f2168-9f42-4a51-8548-7f3edf5d7ed9\",\n{\n            'v': 20500,\n            'f': \"20500\",\n        }],\n [{\n            'v': 1,\n            'f': \"1\",\n        },\n\"23dd5859-7d76-4015-a6aa-5cb732696664\",\n\"2022-11-14 00:00:00\",\n\"91b19fb3-1c79-4577-9f6c-6b05c870344a\",\n{\n            'v': 10000,\n            'f': \"10000\",\n        }],\n [{\n            'v': 2,\n            'f': \"2\",\n        },\n\"2bff505e-3095-424b-8d53-905cb23d45b0\",\n\"2022-11-14 00:00:00\",\n\"b6b68b58-ce02-4311-8673-76e658d81ed4\",\n{\n            'v': 20000,\n            'f': \"20000\",\n        }]],\n        columns: [[\"number\", \"index\"], [\"string\", \"order_id\"], [\"string\", \"order_date\"], [\"string\", \"user_id\"], [\"number\", \"payment_amount\"]],\n        columnOptions: [{\"width\": \"1px\", \"className\": \"index_column\"}],\n        rowsPerPage: 25,\n        helpUrl: \"https://colab.research.google.com/notebooks/data_table.ipynb\",\n        suppressOutputScrolling: true,\n        minimumWidth: undefined,\n      });\n    "
          },
          "metadata": {},
          "execution_count": 18
        }
      ]
    },
    {
      "cell_type": "markdown",
      "source": [
        "## df.loc[] ⭐️\n",
        "- `Access a group of rows and columns by label(s) or a boolean array`\n",
        "- 인덱스를 기준으로 행 데이터를 추출하는 방법\n",
        "- 협업이 많고 규모가 큰 프로젝트 일수록 iloc[] 보다는, `컬럼명을 명시적으로 작성해주는 loc[]를 사용하는 편.`"
      ],
      "metadata": {
        "id": "JBz-2p_Aaw1_"
      }
    },
    {
      "cell_type": "code",
      "source": [
        "ordersDf.head(10)"
      ],
      "metadata": {
        "id": "MGRYFhdF6y1h",
        "colab": {
          "base_uri": "https://localhost:8080/",
          "height": 471
        },
        "outputId": "bfdf0b4e-19ed-4332-d5c9-dd3f91e88a92"
      },
      "execution_count": null,
      "outputs": [
        {
          "output_type": "execute_result",
          "data": {
            "text/plain": [
              "                               order_id order_date order_year_month  \\\n",
              "0  b8ddfc3a-ed30-4930-bc56-8c1c7cddaa99 2022-11-20          2022-11   \n",
              "1  23dd5859-7d76-4015-a6aa-5cb732696664 2022-11-14          2022-11   \n",
              "2  2bff505e-3095-424b-8d53-905cb23d45b0 2022-11-14          2022-11   \n",
              "3  a3c4bdde-8feb-4153-9ea4-f6002df2e8db 2022-11-14          2022-11   \n",
              "4  30f75de2-8e7c-4927-86e9-db27ce93eac5 2022-11-16          2022-11   \n",
              "5  34d49153-4483-431b-812a-510e0956150e 2022-11-30          2022-11   \n",
              "6  2c9fab67-82bb-4337-b360-58cfb259cd05 2022-11-21          2022-11   \n",
              "7  f95f3646-5378-40f7-bd66-ec830f725360 2022-11-24          2022-11   \n",
              "8  eb251887-798b-4777-aff3-35e5620a9465 2022-11-14          2022-11   \n",
              "9  60375ef8-bea4-4bb2-92c0-9d86f5f12da2 2022-11-14          2022-11   \n",
              "\n",
              "                             product_id                               user_id  \\\n",
              "0  05971c6f-df43-4361-8f2d-e36e73484bf1  261f2168-9f42-4a51-8548-7f3edf5d7ed9   \n",
              "1  07b525ae-7120-4b43-b377-9748f9919c25  91b19fb3-1c79-4577-9f6c-6b05c870344a   \n",
              "2  07b525ae-7120-4b43-b377-9748f9919c25  b6b68b58-ce02-4311-8673-76e658d81ed4   \n",
              "3  09bca887-402c-431c-8215-e2e4363b0a05  e2b97c48-adb2-4838-bfd9-fc33b858e337   \n",
              "4  0c9ae89d-be78-4dd2-9b9e-434c31e123ec  a60e189f-0e40-4761-ad6d-71d3fec1fec4   \n",
              "5  10bede47-90cf-4606-95c8-3dfde6418e4e  23e04da9-6363-4784-8f82-bca0cc85661e   \n",
              "6  1f5be0c5-1cc9-4d82-aa3a-09f03a596722  9b729fa2-54aa-48ee-900d-c7bb5a126631   \n",
              "7  206819c1-6de1-4d75-bf40-da3b962691c4  6d36c5be-ff5b-4732-b052-561f812a9e26   \n",
              "8  29865e6b-d911-46df-a6b7-5c621085cc65  615a4c39-c0f2-46c3-8d50-87ff6498a83a   \n",
              "9  29865e6b-d911-46df-a6b7-5c621085cc65  a60e189f-0e40-4761-ad6d-71d3fec1fec4   \n",
              "\n",
              "   payment_amount payment_status pickup_shop_name  \n",
              "0           20500      completed       픽업존(더현대서울)  \n",
              "1           10000      completed       픽업존(더현대서울)  \n",
              "2           20000       canceled       픽업존(더현대서울)  \n",
              "3           16000       canceled       픽업존(더현대서울)  \n",
              "4           34000      completed       픽업존(더현대서울)  \n",
              "5            5700      completed       픽업존(더현대서울)  \n",
              "6            5500      completed       픽업존(더현대서울)  \n",
              "7            9500       canceled       픽업존(더현대서울)  \n",
              "8           28100      completed       픽업존(더현대서울)  \n",
              "9           26100      completed       픽업존(더현대서울)  "
            ],
            "text/html": [
              "\n",
              "  <div id=\"df-3de8d347-591a-4496-b557-1a8d0b67b7b6\">\n",
              "    <div class=\"colab-df-container\">\n",
              "      <div>\n",
              "<style scoped>\n",
              "    .dataframe tbody tr th:only-of-type {\n",
              "        vertical-align: middle;\n",
              "    }\n",
              "\n",
              "    .dataframe tbody tr th {\n",
              "        vertical-align: top;\n",
              "    }\n",
              "\n",
              "    .dataframe thead th {\n",
              "        text-align: right;\n",
              "    }\n",
              "</style>\n",
              "<table border=\"1\" class=\"dataframe\">\n",
              "  <thead>\n",
              "    <tr style=\"text-align: right;\">\n",
              "      <th></th>\n",
              "      <th>order_id</th>\n",
              "      <th>order_date</th>\n",
              "      <th>order_year_month</th>\n",
              "      <th>product_id</th>\n",
              "      <th>user_id</th>\n",
              "      <th>payment_amount</th>\n",
              "      <th>payment_status</th>\n",
              "      <th>pickup_shop_name</th>\n",
              "    </tr>\n",
              "  </thead>\n",
              "  <tbody>\n",
              "    <tr>\n",
              "      <th>0</th>\n",
              "      <td>b8ddfc3a-ed30-4930-bc56-8c1c7cddaa99</td>\n",
              "      <td>2022-11-20</td>\n",
              "      <td>2022-11</td>\n",
              "      <td>05971c6f-df43-4361-8f2d-e36e73484bf1</td>\n",
              "      <td>261f2168-9f42-4a51-8548-7f3edf5d7ed9</td>\n",
              "      <td>20500</td>\n",
              "      <td>completed</td>\n",
              "      <td>픽업존(더현대서울)</td>\n",
              "    </tr>\n",
              "    <tr>\n",
              "      <th>1</th>\n",
              "      <td>23dd5859-7d76-4015-a6aa-5cb732696664</td>\n",
              "      <td>2022-11-14</td>\n",
              "      <td>2022-11</td>\n",
              "      <td>07b525ae-7120-4b43-b377-9748f9919c25</td>\n",
              "      <td>91b19fb3-1c79-4577-9f6c-6b05c870344a</td>\n",
              "      <td>10000</td>\n",
              "      <td>completed</td>\n",
              "      <td>픽업존(더현대서울)</td>\n",
              "    </tr>\n",
              "    <tr>\n",
              "      <th>2</th>\n",
              "      <td>2bff505e-3095-424b-8d53-905cb23d45b0</td>\n",
              "      <td>2022-11-14</td>\n",
              "      <td>2022-11</td>\n",
              "      <td>07b525ae-7120-4b43-b377-9748f9919c25</td>\n",
              "      <td>b6b68b58-ce02-4311-8673-76e658d81ed4</td>\n",
              "      <td>20000</td>\n",
              "      <td>canceled</td>\n",
              "      <td>픽업존(더현대서울)</td>\n",
              "    </tr>\n",
              "    <tr>\n",
              "      <th>3</th>\n",
              "      <td>a3c4bdde-8feb-4153-9ea4-f6002df2e8db</td>\n",
              "      <td>2022-11-14</td>\n",
              "      <td>2022-11</td>\n",
              "      <td>09bca887-402c-431c-8215-e2e4363b0a05</td>\n",
              "      <td>e2b97c48-adb2-4838-bfd9-fc33b858e337</td>\n",
              "      <td>16000</td>\n",
              "      <td>canceled</td>\n",
              "      <td>픽업존(더현대서울)</td>\n",
              "    </tr>\n",
              "    <tr>\n",
              "      <th>4</th>\n",
              "      <td>30f75de2-8e7c-4927-86e9-db27ce93eac5</td>\n",
              "      <td>2022-11-16</td>\n",
              "      <td>2022-11</td>\n",
              "      <td>0c9ae89d-be78-4dd2-9b9e-434c31e123ec</td>\n",
              "      <td>a60e189f-0e40-4761-ad6d-71d3fec1fec4</td>\n",
              "      <td>34000</td>\n",
              "      <td>completed</td>\n",
              "      <td>픽업존(더현대서울)</td>\n",
              "    </tr>\n",
              "    <tr>\n",
              "      <th>5</th>\n",
              "      <td>34d49153-4483-431b-812a-510e0956150e</td>\n",
              "      <td>2022-11-30</td>\n",
              "      <td>2022-11</td>\n",
              "      <td>10bede47-90cf-4606-95c8-3dfde6418e4e</td>\n",
              "      <td>23e04da9-6363-4784-8f82-bca0cc85661e</td>\n",
              "      <td>5700</td>\n",
              "      <td>completed</td>\n",
              "      <td>픽업존(더현대서울)</td>\n",
              "    </tr>\n",
              "    <tr>\n",
              "      <th>6</th>\n",
              "      <td>2c9fab67-82bb-4337-b360-58cfb259cd05</td>\n",
              "      <td>2022-11-21</td>\n",
              "      <td>2022-11</td>\n",
              "      <td>1f5be0c5-1cc9-4d82-aa3a-09f03a596722</td>\n",
              "      <td>9b729fa2-54aa-48ee-900d-c7bb5a126631</td>\n",
              "      <td>5500</td>\n",
              "      <td>completed</td>\n",
              "      <td>픽업존(더현대서울)</td>\n",
              "    </tr>\n",
              "    <tr>\n",
              "      <th>7</th>\n",
              "      <td>f95f3646-5378-40f7-bd66-ec830f725360</td>\n",
              "      <td>2022-11-24</td>\n",
              "      <td>2022-11</td>\n",
              "      <td>206819c1-6de1-4d75-bf40-da3b962691c4</td>\n",
              "      <td>6d36c5be-ff5b-4732-b052-561f812a9e26</td>\n",
              "      <td>9500</td>\n",
              "      <td>canceled</td>\n",
              "      <td>픽업존(더현대서울)</td>\n",
              "    </tr>\n",
              "    <tr>\n",
              "      <th>8</th>\n",
              "      <td>eb251887-798b-4777-aff3-35e5620a9465</td>\n",
              "      <td>2022-11-14</td>\n",
              "      <td>2022-11</td>\n",
              "      <td>29865e6b-d911-46df-a6b7-5c621085cc65</td>\n",
              "      <td>615a4c39-c0f2-46c3-8d50-87ff6498a83a</td>\n",
              "      <td>28100</td>\n",
              "      <td>completed</td>\n",
              "      <td>픽업존(더현대서울)</td>\n",
              "    </tr>\n",
              "    <tr>\n",
              "      <th>9</th>\n",
              "      <td>60375ef8-bea4-4bb2-92c0-9d86f5f12da2</td>\n",
              "      <td>2022-11-14</td>\n",
              "      <td>2022-11</td>\n",
              "      <td>29865e6b-d911-46df-a6b7-5c621085cc65</td>\n",
              "      <td>a60e189f-0e40-4761-ad6d-71d3fec1fec4</td>\n",
              "      <td>26100</td>\n",
              "      <td>completed</td>\n",
              "      <td>픽업존(더현대서울)</td>\n",
              "    </tr>\n",
              "  </tbody>\n",
              "</table>\n",
              "</div>\n",
              "      <button class=\"colab-df-convert\" onclick=\"convertToInteractive('df-3de8d347-591a-4496-b557-1a8d0b67b7b6')\"\n",
              "              title=\"Convert this dataframe to an interactive table.\"\n",
              "              style=\"display:none;\">\n",
              "        \n",
              "  <svg xmlns=\"http://www.w3.org/2000/svg\" height=\"24px\"viewBox=\"0 0 24 24\"\n",
              "       width=\"24px\">\n",
              "    <path d=\"M0 0h24v24H0V0z\" fill=\"none\"/>\n",
              "    <path d=\"M18.56 5.44l.94 2.06.94-2.06 2.06-.94-2.06-.94-.94-2.06-.94 2.06-2.06.94zm-11 1L8.5 8.5l.94-2.06 2.06-.94-2.06-.94L8.5 2.5l-.94 2.06-2.06.94zm10 10l.94 2.06.94-2.06 2.06-.94-2.06-.94-.94-2.06-.94 2.06-2.06.94z\"/><path d=\"M17.41 7.96l-1.37-1.37c-.4-.4-.92-.59-1.43-.59-.52 0-1.04.2-1.43.59L10.3 9.45l-7.72 7.72c-.78.78-.78 2.05 0 2.83L4 21.41c.39.39.9.59 1.41.59.51 0 1.02-.2 1.41-.59l7.78-7.78 2.81-2.81c.8-.78.8-2.07 0-2.86zM5.41 20L4 18.59l7.72-7.72 1.47 1.35L5.41 20z\"/>\n",
              "  </svg>\n",
              "      </button>\n",
              "      \n",
              "  <style>\n",
              "    .colab-df-container {\n",
              "      display:flex;\n",
              "      flex-wrap:wrap;\n",
              "      gap: 12px;\n",
              "    }\n",
              "\n",
              "    .colab-df-convert {\n",
              "      background-color: #E8F0FE;\n",
              "      border: none;\n",
              "      border-radius: 50%;\n",
              "      cursor: pointer;\n",
              "      display: none;\n",
              "      fill: #1967D2;\n",
              "      height: 32px;\n",
              "      padding: 0 0 0 0;\n",
              "      width: 32px;\n",
              "    }\n",
              "\n",
              "    .colab-df-convert:hover {\n",
              "      background-color: #E2EBFA;\n",
              "      box-shadow: 0px 1px 2px rgba(60, 64, 67, 0.3), 0px 1px 3px 1px rgba(60, 64, 67, 0.15);\n",
              "      fill: #174EA6;\n",
              "    }\n",
              "\n",
              "    [theme=dark] .colab-df-convert {\n",
              "      background-color: #3B4455;\n",
              "      fill: #D2E3FC;\n",
              "    }\n",
              "\n",
              "    [theme=dark] .colab-df-convert:hover {\n",
              "      background-color: #434B5C;\n",
              "      box-shadow: 0px 1px 3px 1px rgba(0, 0, 0, 0.15);\n",
              "      filter: drop-shadow(0px 1px 2px rgba(0, 0, 0, 0.3));\n",
              "      fill: #FFFFFF;\n",
              "    }\n",
              "  </style>\n",
              "\n",
              "      <script>\n",
              "        const buttonEl =\n",
              "          document.querySelector('#df-3de8d347-591a-4496-b557-1a8d0b67b7b6 button.colab-df-convert');\n",
              "        buttonEl.style.display =\n",
              "          google.colab.kernel.accessAllowed ? 'block' : 'none';\n",
              "\n",
              "        async function convertToInteractive(key) {\n",
              "          const element = document.querySelector('#df-3de8d347-591a-4496-b557-1a8d0b67b7b6');\n",
              "          const dataTable =\n",
              "            await google.colab.kernel.invokeFunction('convertToInteractive',\n",
              "                                                     [key], {});\n",
              "          if (!dataTable) return;\n",
              "\n",
              "          const docLinkHtml = 'Like what you see? Visit the ' +\n",
              "            '<a target=\"_blank\" href=https://colab.research.google.com/notebooks/data_table.ipynb>data table notebook</a>'\n",
              "            + ' to learn more about interactive tables.';\n",
              "          element.innerHTML = '';\n",
              "          dataTable['output_type'] = 'display_data';\n",
              "          await google.colab.output.renderOutput(dataTable, element);\n",
              "          const docLink = document.createElement('div');\n",
              "          docLink.innerHTML = docLinkHtml;\n",
              "          element.appendChild(docLink);\n",
              "        }\n",
              "      </script>\n",
              "    </div>\n",
              "  </div>\n",
              "  "
            ],
            "application/vnd.google.colaboratory.module+javascript": "\n      import \"https://ssl.gstatic.com/colaboratory/data_table/99dac6621f6ae8c4/data_table.js\";\n\n      window.createDataTable({\n        data: [[{\n            'v': 0,\n            'f': \"0\",\n        },\n\"b8ddfc3a-ed30-4930-bc56-8c1c7cddaa99\",\n\"2022-11-20 00:00:00\",\n\"2022-11\",\n\"05971c6f-df43-4361-8f2d-e36e73484bf1\",\n\"261f2168-9f42-4a51-8548-7f3edf5d7ed9\",\n{\n            'v': 20500,\n            'f': \"20500\",\n        },\n\"completed\",\n\"\\ud53d\\uc5c5\\uc874(\\ub354\\ud604\\ub300\\uc11c\\uc6b8)\"],\n [{\n            'v': 1,\n            'f': \"1\",\n        },\n\"23dd5859-7d76-4015-a6aa-5cb732696664\",\n\"2022-11-14 00:00:00\",\n\"2022-11\",\n\"07b525ae-7120-4b43-b377-9748f9919c25\",\n\"91b19fb3-1c79-4577-9f6c-6b05c870344a\",\n{\n            'v': 10000,\n            'f': \"10000\",\n        },\n\"completed\",\n\"\\ud53d\\uc5c5\\uc874(\\ub354\\ud604\\ub300\\uc11c\\uc6b8)\"],\n [{\n            'v': 2,\n            'f': \"2\",\n        },\n\"2bff505e-3095-424b-8d53-905cb23d45b0\",\n\"2022-11-14 00:00:00\",\n\"2022-11\",\n\"07b525ae-7120-4b43-b377-9748f9919c25\",\n\"b6b68b58-ce02-4311-8673-76e658d81ed4\",\n{\n            'v': 20000,\n            'f': \"20000\",\n        },\n\"canceled\",\n\"\\ud53d\\uc5c5\\uc874(\\ub354\\ud604\\ub300\\uc11c\\uc6b8)\"],\n [{\n            'v': 3,\n            'f': \"3\",\n        },\n\"a3c4bdde-8feb-4153-9ea4-f6002df2e8db\",\n\"2022-11-14 00:00:00\",\n\"2022-11\",\n\"09bca887-402c-431c-8215-e2e4363b0a05\",\n\"e2b97c48-adb2-4838-bfd9-fc33b858e337\",\n{\n            'v': 16000,\n            'f': \"16000\",\n        },\n\"canceled\",\n\"\\ud53d\\uc5c5\\uc874(\\ub354\\ud604\\ub300\\uc11c\\uc6b8)\"],\n [{\n            'v': 4,\n            'f': \"4\",\n        },\n\"30f75de2-8e7c-4927-86e9-db27ce93eac5\",\n\"2022-11-16 00:00:00\",\n\"2022-11\",\n\"0c9ae89d-be78-4dd2-9b9e-434c31e123ec\",\n\"a60e189f-0e40-4761-ad6d-71d3fec1fec4\",\n{\n            'v': 34000,\n            'f': \"34000\",\n        },\n\"completed\",\n\"\\ud53d\\uc5c5\\uc874(\\ub354\\ud604\\ub300\\uc11c\\uc6b8)\"],\n [{\n            'v': 5,\n            'f': \"5\",\n        },\n\"34d49153-4483-431b-812a-510e0956150e\",\n\"2022-11-30 00:00:00\",\n\"2022-11\",\n\"10bede47-90cf-4606-95c8-3dfde6418e4e\",\n\"23e04da9-6363-4784-8f82-bca0cc85661e\",\n{\n            'v': 5700,\n            'f': \"5700\",\n        },\n\"completed\",\n\"\\ud53d\\uc5c5\\uc874(\\ub354\\ud604\\ub300\\uc11c\\uc6b8)\"],\n [{\n            'v': 6,\n            'f': \"6\",\n        },\n\"2c9fab67-82bb-4337-b360-58cfb259cd05\",\n\"2022-11-21 00:00:00\",\n\"2022-11\",\n\"1f5be0c5-1cc9-4d82-aa3a-09f03a596722\",\n\"9b729fa2-54aa-48ee-900d-c7bb5a126631\",\n{\n            'v': 5500,\n            'f': \"5500\",\n        },\n\"completed\",\n\"\\ud53d\\uc5c5\\uc874(\\ub354\\ud604\\ub300\\uc11c\\uc6b8)\"],\n [{\n            'v': 7,\n            'f': \"7\",\n        },\n\"f95f3646-5378-40f7-bd66-ec830f725360\",\n\"2022-11-24 00:00:00\",\n\"2022-11\",\n\"206819c1-6de1-4d75-bf40-da3b962691c4\",\n\"6d36c5be-ff5b-4732-b052-561f812a9e26\",\n{\n            'v': 9500,\n            'f': \"9500\",\n        },\n\"canceled\",\n\"\\ud53d\\uc5c5\\uc874(\\ub354\\ud604\\ub300\\uc11c\\uc6b8)\"],\n [{\n            'v': 8,\n            'f': \"8\",\n        },\n\"eb251887-798b-4777-aff3-35e5620a9465\",\n\"2022-11-14 00:00:00\",\n\"2022-11\",\n\"29865e6b-d911-46df-a6b7-5c621085cc65\",\n\"615a4c39-c0f2-46c3-8d50-87ff6498a83a\",\n{\n            'v': 28100,\n            'f': \"28100\",\n        },\n\"completed\",\n\"\\ud53d\\uc5c5\\uc874(\\ub354\\ud604\\ub300\\uc11c\\uc6b8)\"],\n [{\n            'v': 9,\n            'f': \"9\",\n        },\n\"60375ef8-bea4-4bb2-92c0-9d86f5f12da2\",\n\"2022-11-14 00:00:00\",\n\"2022-11\",\n\"29865e6b-d911-46df-a6b7-5c621085cc65\",\n\"a60e189f-0e40-4761-ad6d-71d3fec1fec4\",\n{\n            'v': 26100,\n            'f': \"26100\",\n        },\n\"completed\",\n\"\\ud53d\\uc5c5\\uc874(\\ub354\\ud604\\ub300\\uc11c\\uc6b8)\"]],\n        columns: [[\"number\", \"index\"], [\"string\", \"order_id\"], [\"string\", \"order_date\"], [\"string\", \"order_year_month\"], [\"string\", \"product_id\"], [\"string\", \"user_id\"], [\"number\", \"payment_amount\"], [\"string\", \"payment_status\"], [\"string\", \"pickup_shop_name\"]],\n        columnOptions: [{\"width\": \"1px\", \"className\": \"index_column\"}],\n        rowsPerPage: 25,\n        helpUrl: \"https://colab.research.google.com/notebooks/data_table.ipynb\",\n        suppressOutputScrolling: true,\n        minimumWidth: undefined,\n      });\n    "
          },
          "metadata": {},
          "execution_count": 14
        }
      ]
    },
    {
      "cell_type": "code",
      "source": [
        "# << indexing >>\n",
        "# index = 8 & 하나의 컬럼 선택\n",
        "ordersDf.loc[8, 'order_id']"
      ],
      "metadata": {
        "colab": {
          "base_uri": "https://localhost:8080/",
          "height": 35
        },
        "id": "RZUdHee6eYLL",
        "outputId": "93a0baf7-0f5d-4a09-f355-fb78be11dc08"
      },
      "execution_count": null,
      "outputs": [
        {
          "output_type": "execute_result",
          "data": {
            "text/plain": [
              "'eb251887-798b-4777-aff3-35e5620a9465'"
            ],
            "application/vnd.google.colaboratory.intrinsic+json": {
              "type": "string"
            }
          },
          "metadata": {},
          "execution_count": 15
        }
      ]
    },
    {
      "cell_type": "code",
      "source": [
        "# << indexing >> \n",
        "# index = 8 & 여러개의 컬럼 선택\n",
        "ordersDf.loc[8, ['order_id', 'order_date', 'product_id', 'payment_amount']]"
      ],
      "metadata": {
        "id": "LljbglS-e9bn",
        "colab": {
          "base_uri": "https://localhost:8080/"
        },
        "outputId": "2329cc25-d9e5-4c97-a9ff-3423cae1b742"
      },
      "execution_count": null,
      "outputs": [
        {
          "output_type": "execute_result",
          "data": {
            "text/plain": [
              "order_id          eb251887-798b-4777-aff3-35e5620a9465\n",
              "order_date                         2022-11-14 00:00:00\n",
              "product_id        29865e6b-d911-46df-a6b7-5c621085cc65\n",
              "payment_amount                                   28100\n",
              "Name: 8, dtype: object"
            ]
          },
          "metadata": {},
          "execution_count": 16
        }
      ]
    },
    {
      "cell_type": "code",
      "source": [
        "# << slicing >>\n",
        "# 이때, [시장(포함): 끝(포함)] 된다는 점에 유의!\n",
        "ordersDf.loc[4:7, 'order_id':'user_id']"
      ],
      "metadata": {
        "id": "zMhmodW3fH5y",
        "colab": {
          "base_uri": "https://localhost:8080/",
          "height": 176
        },
        "outputId": "3a821e27-0ffe-4cbf-9f55-9cba54764dba"
      },
      "execution_count": null,
      "outputs": [
        {
          "output_type": "execute_result",
          "data": {
            "text/plain": [
              "                               order_id order_date order_year_month  \\\n",
              "4  30f75de2-8e7c-4927-86e9-db27ce93eac5 2022-11-16          2022-11   \n",
              "5  34d49153-4483-431b-812a-510e0956150e 2022-11-30          2022-11   \n",
              "6  2c9fab67-82bb-4337-b360-58cfb259cd05 2022-11-21          2022-11   \n",
              "7  f95f3646-5378-40f7-bd66-ec830f725360 2022-11-24          2022-11   \n",
              "\n",
              "                             product_id                               user_id  \n",
              "4  0c9ae89d-be78-4dd2-9b9e-434c31e123ec  a60e189f-0e40-4761-ad6d-71d3fec1fec4  \n",
              "5  10bede47-90cf-4606-95c8-3dfde6418e4e  23e04da9-6363-4784-8f82-bca0cc85661e  \n",
              "6  1f5be0c5-1cc9-4d82-aa3a-09f03a596722  9b729fa2-54aa-48ee-900d-c7bb5a126631  \n",
              "7  206819c1-6de1-4d75-bf40-da3b962691c4  6d36c5be-ff5b-4732-b052-561f812a9e26  "
            ],
            "text/html": [
              "\n",
              "  <div id=\"df-69022b34-3706-4ad0-bf4d-7e780a73c977\">\n",
              "    <div class=\"colab-df-container\">\n",
              "      <div>\n",
              "<style scoped>\n",
              "    .dataframe tbody tr th:only-of-type {\n",
              "        vertical-align: middle;\n",
              "    }\n",
              "\n",
              "    .dataframe tbody tr th {\n",
              "        vertical-align: top;\n",
              "    }\n",
              "\n",
              "    .dataframe thead th {\n",
              "        text-align: right;\n",
              "    }\n",
              "</style>\n",
              "<table border=\"1\" class=\"dataframe\">\n",
              "  <thead>\n",
              "    <tr style=\"text-align: right;\">\n",
              "      <th></th>\n",
              "      <th>order_id</th>\n",
              "      <th>order_date</th>\n",
              "      <th>order_year_month</th>\n",
              "      <th>product_id</th>\n",
              "      <th>user_id</th>\n",
              "    </tr>\n",
              "  </thead>\n",
              "  <tbody>\n",
              "    <tr>\n",
              "      <th>4</th>\n",
              "      <td>30f75de2-8e7c-4927-86e9-db27ce93eac5</td>\n",
              "      <td>2022-11-16</td>\n",
              "      <td>2022-11</td>\n",
              "      <td>0c9ae89d-be78-4dd2-9b9e-434c31e123ec</td>\n",
              "      <td>a60e189f-0e40-4761-ad6d-71d3fec1fec4</td>\n",
              "    </tr>\n",
              "    <tr>\n",
              "      <th>5</th>\n",
              "      <td>34d49153-4483-431b-812a-510e0956150e</td>\n",
              "      <td>2022-11-30</td>\n",
              "      <td>2022-11</td>\n",
              "      <td>10bede47-90cf-4606-95c8-3dfde6418e4e</td>\n",
              "      <td>23e04da9-6363-4784-8f82-bca0cc85661e</td>\n",
              "    </tr>\n",
              "    <tr>\n",
              "      <th>6</th>\n",
              "      <td>2c9fab67-82bb-4337-b360-58cfb259cd05</td>\n",
              "      <td>2022-11-21</td>\n",
              "      <td>2022-11</td>\n",
              "      <td>1f5be0c5-1cc9-4d82-aa3a-09f03a596722</td>\n",
              "      <td>9b729fa2-54aa-48ee-900d-c7bb5a126631</td>\n",
              "    </tr>\n",
              "    <tr>\n",
              "      <th>7</th>\n",
              "      <td>f95f3646-5378-40f7-bd66-ec830f725360</td>\n",
              "      <td>2022-11-24</td>\n",
              "      <td>2022-11</td>\n",
              "      <td>206819c1-6de1-4d75-bf40-da3b962691c4</td>\n",
              "      <td>6d36c5be-ff5b-4732-b052-561f812a9e26</td>\n",
              "    </tr>\n",
              "  </tbody>\n",
              "</table>\n",
              "</div>\n",
              "      <button class=\"colab-df-convert\" onclick=\"convertToInteractive('df-69022b34-3706-4ad0-bf4d-7e780a73c977')\"\n",
              "              title=\"Convert this dataframe to an interactive table.\"\n",
              "              style=\"display:none;\">\n",
              "        \n",
              "  <svg xmlns=\"http://www.w3.org/2000/svg\" height=\"24px\"viewBox=\"0 0 24 24\"\n",
              "       width=\"24px\">\n",
              "    <path d=\"M0 0h24v24H0V0z\" fill=\"none\"/>\n",
              "    <path d=\"M18.56 5.44l.94 2.06.94-2.06 2.06-.94-2.06-.94-.94-2.06-.94 2.06-2.06.94zm-11 1L8.5 8.5l.94-2.06 2.06-.94-2.06-.94L8.5 2.5l-.94 2.06-2.06.94zm10 10l.94 2.06.94-2.06 2.06-.94-2.06-.94-.94-2.06-.94 2.06-2.06.94z\"/><path d=\"M17.41 7.96l-1.37-1.37c-.4-.4-.92-.59-1.43-.59-.52 0-1.04.2-1.43.59L10.3 9.45l-7.72 7.72c-.78.78-.78 2.05 0 2.83L4 21.41c.39.39.9.59 1.41.59.51 0 1.02-.2 1.41-.59l7.78-7.78 2.81-2.81c.8-.78.8-2.07 0-2.86zM5.41 20L4 18.59l7.72-7.72 1.47 1.35L5.41 20z\"/>\n",
              "  </svg>\n",
              "      </button>\n",
              "      \n",
              "  <style>\n",
              "    .colab-df-container {\n",
              "      display:flex;\n",
              "      flex-wrap:wrap;\n",
              "      gap: 12px;\n",
              "    }\n",
              "\n",
              "    .colab-df-convert {\n",
              "      background-color: #E8F0FE;\n",
              "      border: none;\n",
              "      border-radius: 50%;\n",
              "      cursor: pointer;\n",
              "      display: none;\n",
              "      fill: #1967D2;\n",
              "      height: 32px;\n",
              "      padding: 0 0 0 0;\n",
              "      width: 32px;\n",
              "    }\n",
              "\n",
              "    .colab-df-convert:hover {\n",
              "      background-color: #E2EBFA;\n",
              "      box-shadow: 0px 1px 2px rgba(60, 64, 67, 0.3), 0px 1px 3px 1px rgba(60, 64, 67, 0.15);\n",
              "      fill: #174EA6;\n",
              "    }\n",
              "\n",
              "    [theme=dark] .colab-df-convert {\n",
              "      background-color: #3B4455;\n",
              "      fill: #D2E3FC;\n",
              "    }\n",
              "\n",
              "    [theme=dark] .colab-df-convert:hover {\n",
              "      background-color: #434B5C;\n",
              "      box-shadow: 0px 1px 3px 1px rgba(0, 0, 0, 0.15);\n",
              "      filter: drop-shadow(0px 1px 2px rgba(0, 0, 0, 0.3));\n",
              "      fill: #FFFFFF;\n",
              "    }\n",
              "  </style>\n",
              "\n",
              "      <script>\n",
              "        const buttonEl =\n",
              "          document.querySelector('#df-69022b34-3706-4ad0-bf4d-7e780a73c977 button.colab-df-convert');\n",
              "        buttonEl.style.display =\n",
              "          google.colab.kernel.accessAllowed ? 'block' : 'none';\n",
              "\n",
              "        async function convertToInteractive(key) {\n",
              "          const element = document.querySelector('#df-69022b34-3706-4ad0-bf4d-7e780a73c977');\n",
              "          const dataTable =\n",
              "            await google.colab.kernel.invokeFunction('convertToInteractive',\n",
              "                                                     [key], {});\n",
              "          if (!dataTable) return;\n",
              "\n",
              "          const docLinkHtml = 'Like what you see? Visit the ' +\n",
              "            '<a target=\"_blank\" href=https://colab.research.google.com/notebooks/data_table.ipynb>data table notebook</a>'\n",
              "            + ' to learn more about interactive tables.';\n",
              "          element.innerHTML = '';\n",
              "          dataTable['output_type'] = 'display_data';\n",
              "          await google.colab.output.renderOutput(dataTable, element);\n",
              "          const docLink = document.createElement('div');\n",
              "          docLink.innerHTML = docLinkHtml;\n",
              "          element.appendChild(docLink);\n",
              "        }\n",
              "      </script>\n",
              "    </div>\n",
              "  </div>\n",
              "  "
            ],
            "application/vnd.google.colaboratory.module+javascript": "\n      import \"https://ssl.gstatic.com/colaboratory/data_table/99dac6621f6ae8c4/data_table.js\";\n\n      window.createDataTable({\n        data: [[{\n            'v': 4,\n            'f': \"4\",\n        },\n\"30f75de2-8e7c-4927-86e9-db27ce93eac5\",\n\"2022-11-16 00:00:00\",\n\"2022-11\",\n\"0c9ae89d-be78-4dd2-9b9e-434c31e123ec\",\n\"a60e189f-0e40-4761-ad6d-71d3fec1fec4\"],\n [{\n            'v': 5,\n            'f': \"5\",\n        },\n\"34d49153-4483-431b-812a-510e0956150e\",\n\"2022-11-30 00:00:00\",\n\"2022-11\",\n\"10bede47-90cf-4606-95c8-3dfde6418e4e\",\n\"23e04da9-6363-4784-8f82-bca0cc85661e\"],\n [{\n            'v': 6,\n            'f': \"6\",\n        },\n\"2c9fab67-82bb-4337-b360-58cfb259cd05\",\n\"2022-11-21 00:00:00\",\n\"2022-11\",\n\"1f5be0c5-1cc9-4d82-aa3a-09f03a596722\",\n\"9b729fa2-54aa-48ee-900d-c7bb5a126631\"],\n [{\n            'v': 7,\n            'f': \"7\",\n        },\n\"f95f3646-5378-40f7-bd66-ec830f725360\",\n\"2022-11-24 00:00:00\",\n\"2022-11\",\n\"206819c1-6de1-4d75-bf40-da3b962691c4\",\n\"6d36c5be-ff5b-4732-b052-561f812a9e26\"]],\n        columns: [[\"number\", \"index\"], [\"string\", \"order_id\"], [\"string\", \"order_date\"], [\"string\", \"order_year_month\"], [\"string\", \"product_id\"], [\"string\", \"user_id\"]],\n        columnOptions: [{\"width\": \"1px\", \"className\": \"index_column\"}],\n        rowsPerPage: 25,\n        helpUrl: \"https://colab.research.google.com/notebooks/data_table.ipynb\",\n        suppressOutputScrolling: true,\n        minimumWidth: undefined,\n      });\n    "
          },
          "metadata": {},
          "execution_count": 17
        }
      ]
    },
    {
      "cell_type": "code",
      "source": [
        "# << fnacy indexing >>\n",
        "ordersDf.loc[4:8, ['order_id', 'user_id']]\n",
        "ordersDf.loc[8, 'order_id':'user_id']"
      ],
      "metadata": {
        "id": "0R4XDP2bfIAr"
      },
      "execution_count": null,
      "outputs": []
    },
    {
      "cell_type": "code",
      "source": [
        "# << boolean indexing >>\n",
        "condition = ordersDf['product_id'] == '7680cebc-f48a-40f0-a2e9-b9d8c0354555'\n",
        "ordersDf[condition]"
      ],
      "metadata": {
        "id": "xoJYBgDNfIC-"
      },
      "execution_count": null,
      "outputs": []
    },
    {
      "cell_type": "code",
      "source": [
        "# << boolean indexing - 다중 조건 >>\n",
        "condition1 = ordersDf['product_id'] == '7680cebc-f48a-40f0-a2e9-b9d8c0354555'\n",
        "condition2 = ordersDf['order_date'] == '2022-07-15'\n",
        "ordersDf.loc[condition1 & condition2] # and <<- 31개 행\n",
        "ordersDf.loc[condition1 | condition2] # or  <<- 296개 행"
      ],
      "metadata": {
        "id": "vz7tajs7hvA0"
      },
      "execution_count": null,
      "outputs": []
    },
    {
      "cell_type": "markdown",
      "source": [
        "## df.iloc[]\n",
        "- `Purely integer-location based indexing for selection by position.`\n",
        "- df.loc[] 와 사용방법이 동일하지만, 인덱스가 아닌 행/열 번호를 기준으로 데이터를 추출\n",
        "- [참고] 인덱스와 행번호의 차이 🔥 \n",
        "  - 인덱스는 보통 0부터 시작하지만 중간에 데이터가 삭제되면 언제든 변할 수 있으며 숫자가 아니라 문자열도 사용할 수 있음\n",
        "  - 하지만 행/열 번호는 데이터의 순서를 따라가기 때문에 정수를 통해서만 데이터 조회/추출이 가능"
      ],
      "metadata": {
        "id": "70a5oJVEocuG"
      }
    },
    {
      "cell_type": "code",
      "source": [
        "# << indexing >>\n",
        "ordersDf.iloc[3, 3]"
      ],
      "metadata": {
        "id": "y5Jt43e2ic4A"
      },
      "execution_count": null,
      "outputs": []
    },
    {
      "cell_type": "code",
      "source": [
        "# << slicing >>\n",
        "# df.loc와 다르게 [시작(포함):끝(제외)] 된다는 점에 유의!\n",
        "ordersDf.iloc[4:7, 0:4]\n",
        "\n",
        "# << 비교용 - loc slicing >>\n",
        "# 이때, [시작(포함): 끝(포함)] 된다는 점에 유의!\n",
        "# ordersDf.loc[4:7, 'order_id':'user_id']\n"
      ],
      "metadata": {
        "id": "F9FJsd2grpwD"
      },
      "execution_count": null,
      "outputs": []
    },
    {
      "cell_type": "code",
      "source": [
        "# << fancy indexing >>\n",
        "ordersDf.iloc[[4, 5, 6], 0:4]"
      ],
      "metadata": {
        "id": "ZrcWUbcSic6j"
      },
      "execution_count": null,
      "outputs": []
    },
    {
      "cell_type": "markdown",
      "source": [
        "## Series.where\n",
        "- `Series.where(시리즈에 대한 조건문, 조건이 거짓일때 값)` 형태로 사용하며 \n",
        "- 조건이 참인 경우에 대해서는 `기존의 값을 유지한다.`\n"
      ],
      "metadata": {
        "id": "psVRS9S4tQiA"
      }
    },
    {
      "cell_type": "code",
      "source": [
        "# product_id 컬럼의 값이 '7680cebc-f48a-40f0-a2e9-b9d8c0354555'이 아닌 경우, 해당 컬럼의 다른 값들을 모두 99로 변경\n",
        "ordersDf['product_id'].where(ordersDf['product_id'] == '7680cebc-f48a-40f0-a2e9-b9d8c0354555', 99).to_frame()"
      ],
      "metadata": {
        "id": "kP5eIS9MhvDJ"
      },
      "execution_count": null,
      "outputs": []
    },
    {
      "cell_type": "code",
      "source": [
        "# product_id 컬럼의 값이 '7680cebc-f48a-40f0-a2e9-b9d8c0354555'이 아닌 경우, 해당 행을 제외한 나머지 행들의 전체 값을 99로 변경\n",
        "ordersDf.where(ordersDf['product_id'] == '7680cebc-f48a-40f0-a2e9-b9d8c0354555',99)"
      ],
      "metadata": {
        "id": "WfVBthfnulDs"
      },
      "execution_count": null,
      "outputs": []
    },
    {
      "cell_type": "markdown",
      "source": [
        "## np.where ⭐️\n",
        "- `np.where(배열에 대한 조건문, 조건이 참일때 값, 조건이 거짓일때 값)` 형태로 사용하며 배열 형태로 반환\n",
        "- `pd.where` 보다 유연하게 사용 가능\n"
      ],
      "metadata": {
        "id": "PO1d_dyOt9CM"
      }
    },
    {
      "cell_type": "code",
      "source": [
        "shopsDf"
      ],
      "metadata": {
        "id": "z8fOdd89vPxN"
      },
      "execution_count": null,
      "outputs": []
    },
    {
      "cell_type": "code",
      "source": [
        "# << 어떤 결과가 나오나요? >>\n",
        "np.where(shopsDf['region_2depth_name'] != '영등포구')\n",
        "\n",
        "# << 여기에 조건을 충족하는경우와, 아닌경우에 임의의 값을 넣어봅시다. >>\n",
        "# np.where(shopsDf['region_2depth_name'] != '영등포구', '충족하면_이렇게', '아니면_이렇게')\n",
        "# shopsDf['region_3depth_name'] = np.where(shopsDf['region_2depth_name'] != '영등포구', '충족하면_이렇게', '아니면_이렇게')\n",
        "# shopsDf"
      ],
      "metadata": {
        "id": "Yk5kUd16KEB1"
      },
      "execution_count": null,
      "outputs": []
    },
    {
      "cell_type": "markdown",
      "source": [
        "## df.isin()\n",
        "- 특정 값에 대한 포함 여부를 확인"
      ],
      "metadata": {
        "id": "9qSTRqZUPPL-"
      }
    },
    {
      "cell_type": "code",
      "source": [
        "# pickup_shop_name에 '픽업존(메이비카페)', '픽업존(더현대서울)'이 포함되어 있는지 확인\n",
        "shopsDf['pickup_shop_name'].isin(['픽업존(메이비카페)', '픽업존(더현대서울)'])\n",
        "\n",
        "# << 어떻게 출력될까요? - case.1 위에서 구한 불리언 시리즈를 데이터 프레임에 넣은 경우 >>\n",
        "# shopsDf[shopsDf['pickup_shop_name'].isin(['픽업존(메이비카페)', '픽업존(더현대서울)'])]\n",
        "\n",
        "# << 어떻게 출력될까요? - case.2 탐색하고자 하는 컬럼을 하나 더 추가한 경우 >>\n",
        "# shopsDf[['pickup_shop_name', 'region_2depth_name']].isin(['픽업존(메이비카페)', '픽업존(더현대서울)'])"
      ],
      "metadata": {
        "id": "-KKtfd6QPPVX"
      },
      "execution_count": null,
      "outputs": []
    },
    {
      "cell_type": "code",
      "source": [
        "# << 어떻게 출력될까요? - case.3 탐색하고자 하는 컬럼을 지정하지 않은 경우 >>\n",
        "shopsDf.isin(['픽업존(메이비카페)', '픽업존(더현대서울)'])\n",
        "\n",
        "# << 어떻게 출력될까요? - case.4 위에서 구한 불리언 타입으로 구성된 데이터 프레임을, 동일한 크기의 shosDf안에 넣은 경우 >>\n",
        "# shopsDf[shopsDf.isin(['픽업존(메이비카페)', '픽업존(더현대서울)'])]"
      ],
      "metadata": {
        "id": "l52f1DQ5P0BL"
      },
      "execution_count": null,
      "outputs": []
    },
    {
      "cell_type": "markdown",
      "source": [
        "## datetime ⭐️\n",
        "- 공식 문서 참고 : https://pandas.pydata.org/pandas-docs/stable/reference/api/pandas.DatetimeIndex.year.html\n",
        "- 외부에서 불러온 데이터에서 날짜 형식의 데이터가 있는경우 `datetime 타입으로 변환시켜주시는게 좋습니다.` (데이터 핸들링 편의성 관점)\n",
        "- datetime 타입의 데이터를 사용할 경우, 사용할 수 있는 기능\n",
        "  - dt.year: 연도\n",
        "  - dt.month: 월\n",
        "  - dt.day: 일\n",
        "  - dt.week: 주\n",
        "  - dt.weekofyear: 연중 몇 째주\n",
        "  - dt.dayofweek: 요일 (월요일: 0, ..., 일요일: 6)\n",
        "  - dt.weekday: 요일 (dayofweek과 동일)"
      ],
      "metadata": {
        "id": "RNwMMTcfmec9"
      }
    },
    {
      "cell_type": "code",
      "source": [
        "ordersDf['order_date'].dt.year\n",
        "ordersDf['order_date'].dt.month\n",
        "ordersDf['order_date'].dt.day\n",
        "ordersDf['order_date'].dt.dayofweek"
      ],
      "metadata": {
        "id": "-F8itOwWnpYr"
      },
      "execution_count": null,
      "outputs": []
    },
    {
      "cell_type": "markdown",
      "source": [
        "# 데이터 병합"
      ],
      "metadata": {
        "id": "pqRbAZQAUcPh"
      }
    },
    {
      "cell_type": "markdown",
      "source": [
        "## pd.concat() ⭐️\n",
        "- 지정한 DataFrame을 연결하는데 사용"
      ],
      "metadata": {
        "id": "U5lvgGFykWfV"
      }
    },
    {
      "cell_type": "code",
      "source": [
        "# << 실습을 위한 shopsDf 데이터 분할 >>\n",
        "shopsDf_02 = shopsDf.loc[0:2]\n",
        "shopsDf_34 = shopsDf.loc[3:4]\n",
        "shopsDf_57 = shopsDf.loc[5:7]\n",
        "\n",
        "# << concat을 통한 위, 아래 병합 >>\n",
        "# 각 컬럼 기준으로 같은 이름들끼리 알아서 병합해주고 (컬럼 순서도 상관 X), 병합시 다른 한쪽에 없는 컬럼이 있으면 없는데로 null값을 할당해서 합쳐 줍니다.\n",
        "pd.concat([shopsDf_02, shopsDf_57, shopsDf_34], ignore_index=True) # ignore_index=True 설정이 있어야, 데이터 병합 후 index가 재설정 됩니다."
      ],
      "metadata": {
        "id": "QVGQ2A27mVft"
      },
      "execution_count": null,
      "outputs": []
    },
    {
      "cell_type": "code",
      "source": [
        "# << 실습을 위한 shopsDf 데이터 분할 >>\n",
        "shopsDf_left = shopsDf.loc[:, ['pickup_shop_name', 'region_1depth_name', 'region_2depth_name', 'region_3depth_name']]\n",
        "shopsDf_right = shopsDf.loc[4:, ['h_code', 'x', 'y']]\n",
        "\n",
        "# << concat을 통한 왼쪽, 오른쪽 병합 >>\n",
        "# 위아래 병합과 달리 같은 인덱스 끼리 합해줍니다.\n",
        "pd.concat([shopsDf_left, shopsDf_right], axis=1) # axis = 1 설정을 통해 열방향 병합을 설정!"
      ],
      "metadata": {
        "id": "nvuA3GtPmoku"
      },
      "execution_count": null,
      "outputs": []
    },
    {
      "cell_type": "code",
      "source": [
        "shopsDf"
      ],
      "metadata": {
        "id": "D6Xl8m5tlDEH"
      },
      "execution_count": null,
      "outputs": []
    },
    {
      "cell_type": "markdown",
      "source": [
        "## pd.merge() ⭐️\n",
        "- 공통된 key(컬럼)을 기준으로 DataFraem을 병합하는데 사용\n",
        "- default 조인 방법은 inner이며, `총 네가지 병합 방식을 제공(left, right, outer, inner)`\n",
        "- SQL의 JOIN과 유사한 기능"
      ],
      "metadata": {
        "id": "Av-vLjf2lCGU"
      }
    },
    {
      "cell_type": "code",
      "source": [
        "# << 실습 데이터 확인 >>\n",
        "salesByShopDf_harf = salesByShopDf.loc[0:4]\n",
        "salesByShopDf_harf"
      ],
      "metadata": {
        "id": "qeVM0Am4prex"
      },
      "execution_count": null,
      "outputs": []
    },
    {
      "cell_type": "code",
      "source": [
        "# << 이름이 같은 두 컬럼을 조인키로 지정하는 방법 - on >>\n",
        "pd.merge(salesByShopDf_harf, salesByShopDf, on = 'pickup_shop_name', how = 'left') # left, right, outer, inner"
      ],
      "metadata": {
        "colab": {
          "base_uri": "https://localhost:8080/",
          "height": 197
        },
        "id": "p115BisKq-Wd",
        "outputId": "ff37ab5c-bc7c-4878-9315-d02d3167cea3"
      },
      "execution_count": null,
      "outputs": [
        {
          "output_type": "execute_result",
          "data": {
            "text/plain": [
              "  pickup_shop_name    sales_x  pu_x    sales_y  pu_y\n",
              "0        픽업존(유승상가)  267844000  1929  267844000  1929\n",
              "1       픽업존(더현대서울)    1199500    23    1199500    23\n",
              "2       픽업존(메이비카페)   76700200   653   76700200   653\n",
              "3  픽업존(GS25 목동3동점)   33700500   394   33700500   394\n",
              "4    픽업존(GS영등포당산점)   36577700   547   36577700   547"
            ],
            "text/html": [
              "\n",
              "  <div id=\"df-d76096d3-a9e6-4a2b-af9c-6ff08f0bf6ed\">\n",
              "    <div class=\"colab-df-container\">\n",
              "      <div>\n",
              "<style scoped>\n",
              "    .dataframe tbody tr th:only-of-type {\n",
              "        vertical-align: middle;\n",
              "    }\n",
              "\n",
              "    .dataframe tbody tr th {\n",
              "        vertical-align: top;\n",
              "    }\n",
              "\n",
              "    .dataframe thead th {\n",
              "        text-align: right;\n",
              "    }\n",
              "</style>\n",
              "<table border=\"1\" class=\"dataframe\">\n",
              "  <thead>\n",
              "    <tr style=\"text-align: right;\">\n",
              "      <th></th>\n",
              "      <th>pickup_shop_name</th>\n",
              "      <th>sales_x</th>\n",
              "      <th>pu_x</th>\n",
              "      <th>sales_y</th>\n",
              "      <th>pu_y</th>\n",
              "    </tr>\n",
              "  </thead>\n",
              "  <tbody>\n",
              "    <tr>\n",
              "      <th>0</th>\n",
              "      <td>픽업존(유승상가)</td>\n",
              "      <td>267844000</td>\n",
              "      <td>1929</td>\n",
              "      <td>267844000</td>\n",
              "      <td>1929</td>\n",
              "    </tr>\n",
              "    <tr>\n",
              "      <th>1</th>\n",
              "      <td>픽업존(더현대서울)</td>\n",
              "      <td>1199500</td>\n",
              "      <td>23</td>\n",
              "      <td>1199500</td>\n",
              "      <td>23</td>\n",
              "    </tr>\n",
              "    <tr>\n",
              "      <th>2</th>\n",
              "      <td>픽업존(메이비카페)</td>\n",
              "      <td>76700200</td>\n",
              "      <td>653</td>\n",
              "      <td>76700200</td>\n",
              "      <td>653</td>\n",
              "    </tr>\n",
              "    <tr>\n",
              "      <th>3</th>\n",
              "      <td>픽업존(GS25 목동3동점)</td>\n",
              "      <td>33700500</td>\n",
              "      <td>394</td>\n",
              "      <td>33700500</td>\n",
              "      <td>394</td>\n",
              "    </tr>\n",
              "    <tr>\n",
              "      <th>4</th>\n",
              "      <td>픽업존(GS영등포당산점)</td>\n",
              "      <td>36577700</td>\n",
              "      <td>547</td>\n",
              "      <td>36577700</td>\n",
              "      <td>547</td>\n",
              "    </tr>\n",
              "  </tbody>\n",
              "</table>\n",
              "</div>\n",
              "      <button class=\"colab-df-convert\" onclick=\"convertToInteractive('df-d76096d3-a9e6-4a2b-af9c-6ff08f0bf6ed')\"\n",
              "              title=\"Convert this dataframe to an interactive table.\"\n",
              "              style=\"display:none;\">\n",
              "        \n",
              "  <svg xmlns=\"http://www.w3.org/2000/svg\" height=\"24px\"viewBox=\"0 0 24 24\"\n",
              "       width=\"24px\">\n",
              "    <path d=\"M0 0h24v24H0V0z\" fill=\"none\"/>\n",
              "    <path d=\"M18.56 5.44l.94 2.06.94-2.06 2.06-.94-2.06-.94-.94-2.06-.94 2.06-2.06.94zm-11 1L8.5 8.5l.94-2.06 2.06-.94-2.06-.94L8.5 2.5l-.94 2.06-2.06.94zm10 10l.94 2.06.94-2.06 2.06-.94-2.06-.94-.94-2.06-.94 2.06-2.06.94z\"/><path d=\"M17.41 7.96l-1.37-1.37c-.4-.4-.92-.59-1.43-.59-.52 0-1.04.2-1.43.59L10.3 9.45l-7.72 7.72c-.78.78-.78 2.05 0 2.83L4 21.41c.39.39.9.59 1.41.59.51 0 1.02-.2 1.41-.59l7.78-7.78 2.81-2.81c.8-.78.8-2.07 0-2.86zM5.41 20L4 18.59l7.72-7.72 1.47 1.35L5.41 20z\"/>\n",
              "  </svg>\n",
              "      </button>\n",
              "      \n",
              "  <style>\n",
              "    .colab-df-container {\n",
              "      display:flex;\n",
              "      flex-wrap:wrap;\n",
              "      gap: 12px;\n",
              "    }\n",
              "\n",
              "    .colab-df-convert {\n",
              "      background-color: #E8F0FE;\n",
              "      border: none;\n",
              "      border-radius: 50%;\n",
              "      cursor: pointer;\n",
              "      display: none;\n",
              "      fill: #1967D2;\n",
              "      height: 32px;\n",
              "      padding: 0 0 0 0;\n",
              "      width: 32px;\n",
              "    }\n",
              "\n",
              "    .colab-df-convert:hover {\n",
              "      background-color: #E2EBFA;\n",
              "      box-shadow: 0px 1px 2px rgba(60, 64, 67, 0.3), 0px 1px 3px 1px rgba(60, 64, 67, 0.15);\n",
              "      fill: #174EA6;\n",
              "    }\n",
              "\n",
              "    [theme=dark] .colab-df-convert {\n",
              "      background-color: #3B4455;\n",
              "      fill: #D2E3FC;\n",
              "    }\n",
              "\n",
              "    [theme=dark] .colab-df-convert:hover {\n",
              "      background-color: #434B5C;\n",
              "      box-shadow: 0px 1px 3px 1px rgba(0, 0, 0, 0.15);\n",
              "      filter: drop-shadow(0px 1px 2px rgba(0, 0, 0, 0.3));\n",
              "      fill: #FFFFFF;\n",
              "    }\n",
              "  </style>\n",
              "\n",
              "      <script>\n",
              "        const buttonEl =\n",
              "          document.querySelector('#df-d76096d3-a9e6-4a2b-af9c-6ff08f0bf6ed button.colab-df-convert');\n",
              "        buttonEl.style.display =\n",
              "          google.colab.kernel.accessAllowed ? 'block' : 'none';\n",
              "\n",
              "        async function convertToInteractive(key) {\n",
              "          const element = document.querySelector('#df-d76096d3-a9e6-4a2b-af9c-6ff08f0bf6ed');\n",
              "          const dataTable =\n",
              "            await google.colab.kernel.invokeFunction('convertToInteractive',\n",
              "                                                     [key], {});\n",
              "          if (!dataTable) return;\n",
              "\n",
              "          const docLinkHtml = 'Like what you see? Visit the ' +\n",
              "            '<a target=\"_blank\" href=https://colab.research.google.com/notebooks/data_table.ipynb>data table notebook</a>'\n",
              "            + ' to learn more about interactive tables.';\n",
              "          element.innerHTML = '';\n",
              "          dataTable['output_type'] = 'display_data';\n",
              "          await google.colab.output.renderOutput(dataTable, element);\n",
              "          const docLink = document.createElement('div');\n",
              "          docLink.innerHTML = docLinkHtml;\n",
              "          element.appendChild(docLink);\n",
              "        }\n",
              "      </script>\n",
              "    </div>\n",
              "  </div>\n",
              "  "
            ],
            "application/vnd.google.colaboratory.module+javascript": "\n      import \"https://ssl.gstatic.com/colaboratory/data_table/fb998edc550c7947/data_table.js\";\n\n      window.createDataTable({\n        data: [[{\n            'v': 0,\n            'f': \"0\",\n        },\n\"\\ud53d\\uc5c5\\uc874(\\uc720\\uc2b9\\uc0c1\\uac00)\",\n{\n            'v': 267844000,\n            'f': \"267844000\",\n        },\n{\n            'v': 1929,\n            'f': \"1929\",\n        },\n{\n            'v': 267844000,\n            'f': \"267844000\",\n        },\n{\n            'v': 1929,\n            'f': \"1929\",\n        }],\n [{\n            'v': 1,\n            'f': \"1\",\n        },\n\"\\ud53d\\uc5c5\\uc874(\\ub354\\ud604\\ub300\\uc11c\\uc6b8)\",\n{\n            'v': 1199500,\n            'f': \"1199500\",\n        },\n{\n            'v': 23,\n            'f': \"23\",\n        },\n{\n            'v': 1199500,\n            'f': \"1199500\",\n        },\n{\n            'v': 23,\n            'f': \"23\",\n        }],\n [{\n            'v': 2,\n            'f': \"2\",\n        },\n\"\\ud53d\\uc5c5\\uc874(\\uba54\\uc774\\ube44\\uce74\\ud398)\",\n{\n            'v': 76700200,\n            'f': \"76700200\",\n        },\n{\n            'v': 653,\n            'f': \"653\",\n        },\n{\n            'v': 76700200,\n            'f': \"76700200\",\n        },\n{\n            'v': 653,\n            'f': \"653\",\n        }],\n [{\n            'v': 3,\n            'f': \"3\",\n        },\n\"\\ud53d\\uc5c5\\uc874(GS25 \\ubaa9\\ub3d93\\ub3d9\\uc810)\",\n{\n            'v': 33700500,\n            'f': \"33700500\",\n        },\n{\n            'v': 394,\n            'f': \"394\",\n        },\n{\n            'v': 33700500,\n            'f': \"33700500\",\n        },\n{\n            'v': 394,\n            'f': \"394\",\n        }],\n [{\n            'v': 4,\n            'f': \"4\",\n        },\n\"\\ud53d\\uc5c5\\uc874(GS\\uc601\\ub4f1\\ud3ec\\ub2f9\\uc0b0\\uc810)\",\n{\n            'v': 36577700,\n            'f': \"36577700\",\n        },\n{\n            'v': 547,\n            'f': \"547\",\n        },\n{\n            'v': 36577700,\n            'f': \"36577700\",\n        },\n{\n            'v': 547,\n            'f': \"547\",\n        }]],\n        columns: [[\"number\", \"index\"], [\"string\", \"pickup_shop_name\"], [\"number\", \"sales_x\"], [\"number\", \"pu_x\"], [\"number\", \"sales_y\"], [\"number\", \"pu_y\"]],\n        columnOptions: [{\"width\": \"1px\", \"className\": \"index_column\"}],\n        rowsPerPage: 25,\n        helpUrl: \"https://colab.research.google.com/notebooks/data_table.ipynb\",\n        suppressOutputScrolling: true,\n        minimumWidth: undefined,\n      });\n    "
          },
          "metadata": {},
          "execution_count": 113
        }
      ]
    },
    {
      "cell_type": "code",
      "source": [
        "# << 이름이 다른 두 컬럼을 조인키로 지정하는 방법 - left_on, right_on >>\n",
        "\n",
        "# 임의 데이터 분할\n",
        "a = shopsDf.loc[:, ['pickup_shop_name', 'region_1depth_name', 'region_2depth_name']]\n",
        "b = shopsDf.loc[:4, ['pickup_shop_name', 'h_code']].rename(columns={'pickup_shop_name':'shop_name'})\n",
        "\n",
        "# 이름이 다른 컬럼으로, 두 데이터 프레임 join\n",
        "pd.merge(a, b, left_on = 'pickup_shop_name', right_on = 'shop_name', how = 'left')"
      ],
      "metadata": {
        "id": "UsDnevcKsJld"
      },
      "execution_count": null,
      "outputs": []
    },
    {
      "cell_type": "markdown",
      "source": [
        "# 기타 고급 기능"
      ],
      "metadata": {
        "id": "NJSKCUe_vBUp"
      }
    },
    {
      "cell_type": "markdown",
      "source": [
        "## df.groupby() ⭐️"
      ],
      "metadata": {
        "id": "gB_CRpBUUiVY"
      }
    },
    {
      "cell_type": "code",
      "source": [
        "# order_year_month별 합 - 숫자형 컬럼들에대해 모두 sum값이 계산되어 나오지만, 이 데이터에는 숫자형이 컬럼이 payment_amount 하나밖에 없습니다.\n",
        "ordersDf.groupby('order_year_month').sum()"
      ],
      "metadata": {
        "id": "azMjI2GqWLPs"
      },
      "execution_count": null,
      "outputs": []
    },
    {
      "cell_type": "code",
      "source": [
        "# order_year_month별 pickup_shop_name 별 합 - 만약 여러개의 숫자형 컬럼이 있었다면 그룹핑 결과 중 특정 컬럼(e.g. payment_amount)에 대해서만 선택해서 볼 수 있습니다.\n",
        "ordersDf.groupby(['order_year_month', 'pickup_shop_name'])['payment_amount'].sum()"
      ],
      "metadata": {
        "id": "AGIgeUL2wVG5"
      },
      "execution_count": null,
      "outputs": []
    },
    {
      "cell_type": "code",
      "source": [
        "# to_frame() 함수를 사용해서, 데이터 프레임 형태로 볼 수 있습니다.\n",
        "# ㄴ to_frame()은 Seires를 DataFrame으로 변환하는 함수이며\n",
        "# ㄴ 아래 코드 전체를 pd.DataFrame()으로 감싸는 방법도 있습니다.\n",
        "ordersDf.groupby(['order_year_month', 'pickup_shop_name'])['payment_amount'].sum().to_frame()"
      ],
      "metadata": {
        "id": "RJxRQcLsz8s0"
      },
      "execution_count": null,
      "outputs": []
    },
    {
      "cell_type": "code",
      "source": [
        "# reset_index()를 사용해서 index를 초기화하고 새로운 데이터 프레임을 만들 수 있습니다.\n",
        "ordersDf.groupby(['order_year_month', 'pickup_shop_name'])['payment_amount'].sum().reset_index()"
      ],
      "metadata": {
        "id": "hwiRLFwqwVJR"
      },
      "execution_count": null,
      "outputs": []
    },
    {
      "cell_type": "code",
      "source": [
        "# << 다중 통계량 계산 >>\n",
        "\n",
        "multiStatsDf = ordersDf.groupby('order_year_month').agg(['sum', 'mean', 'median', 'max', 'min', 'count', 'nunique', 'std', 'var']).reset_index()\n",
        "multiStatsDf"
      ],
      "metadata": {
        "id": "j8QI92dHwVNb"
      },
      "execution_count": null,
      "outputs": []
    },
    {
      "cell_type": "code",
      "source": [
        "# << (참고) 멀티 컬럼에 접근하는 방법 - 어떤 차이가 있는지 한줄식 실행해 보세요 ~ ☺️ >>\n",
        "\n",
        "multiStatsDf['payment_amount']['sum']\n",
        "multiStatsDf[('payment_amount', 'sum')] # 튜플형태로 접근\n",
        "multiStatsDf['payment_amount'][['sum', 'mean']]\n",
        "multiStatsDf.loc[[1,6], 'payment_amount'][['sum', 'max']]"
      ],
      "metadata": {
        "id": "zat4lTWMwVP1"
      },
      "execution_count": null,
      "outputs": []
    },
    {
      "cell_type": "markdown",
      "source": [
        "## df.pivot_table()\n",
        "- `index, colums, values`를 지정하여 테이블을 피벗합니다.\n",
        "  - index : 왼쪽의 기준 행으로 두고 싶은 컬럼\n",
        "  - columns : 상단에 나열하고 싶은 컬럼\n",
        "  - values : 안에 표기하고 싶은 데이터\n",
        "- `aggfunc`는 defaul로 sum이 할당되어 있으며, 변경 및 추가 가능\n"
      ],
      "metadata": {
        "id": "bUDuUz8VWLIa"
      }
    },
    {
      "cell_type": "code",
      "source": [
        "shopsDf.pivot_table(index = 'pickup_shop_name' , columns= 'region_2depth_name', values = 'x')"
      ],
      "metadata": {
        "id": "Ep5ZlZzIVp-p"
      },
      "execution_count": null,
      "outputs": []
    },
    {
      "cell_type": "code",
      "source": [
        "shopsDf.pivot_table(index = 'region_2depth_name' , columns= 'region_1depth_name', values = 'x', aggfunc=['sum', 'min'])"
      ],
      "metadata": {
        "id": "C9rbIOhtb5jP"
      },
      "execution_count": null,
      "outputs": []
    },
    {
      "cell_type": "markdown",
      "source": [
        "## df.melt()\n",
        "- `id_vars, value_vars`를 지정하여 테이블 형태를 변경합니다.\n",
        "  - id_vers : 왼쪽의 기준 행으로 두고 싶은 변수 \n",
        "  - value_vars : 녹이고자 하는 컬럼\n",
        "  - var_name : \n",
        "  - value_name : \n"
      ],
      "metadata": {
        "id": "41CLcjXcaf9i"
      }
    },
    {
      "cell_type": "code",
      "source": [
        "shopsDf"
      ],
      "metadata": {
        "id": "HeHPXReKhd1j"
      },
      "execution_count": null,
      "outputs": []
    },
    {
      "cell_type": "code",
      "source": [
        "# 우선 어떻게 녹아내리는지 확인해 볼까요?\n",
        "shopsDf.melt(id_vars='pickup_shop_name')"
      ],
      "metadata": {
        "id": "roZx1FHheNP1"
      },
      "execution_count": null,
      "outputs": []
    },
    {
      "cell_type": "code",
      "source": [
        "# pickup_shop_name을 기준으로 region_1depth_name 컬럼 하나만 녹이고 싶다면?\n",
        "shopsDf.melt(id_vars='pickup_shop_name', value_vars='region_1depth_name')"
      ],
      "metadata": {
        "id": "yy0Rd-tpejsZ"
      },
      "execution_count": null,
      "outputs": []
    },
    {
      "cell_type": "code",
      "source": [
        "# pickup_shop_name을 기준으로 h_code, x, y 컬럼을 녹이고 싶다면?\n",
        "shopsDf.melt(id_vars='pickup_shop_name', value_vars=['h_code', 'x', 'y'])# var_name = 'category', value_name = 'index'"
      ],
      "metadata": {
        "id": "V2u7YAzMew4F"
      },
      "execution_count": null,
      "outputs": []
    },
    {
      "cell_type": "markdown",
      "source": [
        "# pandasql \n",
        "- 해당 라이브러리를 사용하면, python에서 새롭게 생성된 DataFrame도 SQL 문법에 맞춰 핸들링 할 수 있기 때문에, pandas 문법이 갑자기 생각이 나지 않더라도 유연하게 대처할 수 있습니다.\n",
        "- 단 bigquery에서 사용되는 일부 함수의 경우 해당 기능을 제공하지 않을 수 있습니다. \n",
        "- https://pypi.org/project/pandasql/\n",
        "- https://github.com/yhat/pandasql/\n",
        "- SQLite - SQL Function : https://www.sqlite.org/lang_corefunc.html\n",
        "- pandasql uses SQLite syntax. Any pandas dataframes will be automatically detected by pandasql. You can query them as you would any regular SQL table."
      ],
      "metadata": {
        "id": "3NbilJGgVqC_"
      }
    },
    {
      "cell_type": "code",
      "source": [
        "!pip install pandasql"
      ],
      "metadata": {
        "id": "zlXOdgkGl1zI"
      },
      "execution_count": null,
      "outputs": []
    },
    {
      "cell_type": "code",
      "source": [
        "!pip show pandasql"
      ],
      "metadata": {
        "colab": {
          "base_uri": "https://localhost:8080/"
        },
        "id": "gx_8tQXDpB7p",
        "outputId": "afe940d7-a350-4662-f0b8-4a65d8637b4f"
      },
      "execution_count": null,
      "outputs": [
        {
          "output_type": "stream",
          "name": "stdout",
          "text": [
            "Name: pandasql\n",
            "Version: 0.7.3\n",
            "Summary: sqldf for pandas\n",
            "Home-page: https://github.com/yhat/pandasql/\n",
            "Author: Greg Lamp\n",
            "Author-email: greg@yhathq.com\n",
            "License: Copyright (c) 2013 Yhat, Inc.\n",
            "        \n",
            "        Permission is hereby granted, free of charge, to any person obtaining a copy of this software and associated documentation files (the \"Software\"), to deal in the Software without restriction, including without limitation the rights to use, copy, modify, merge, publish, distribute, sublicense, and/or sell copies of the Software, and to permit persons to whom the Software is furnished to do so, subject to the following conditions:\n",
            "        \n",
            "        The above copyright notice and this permission notice shall be included in all copies or substantial portions of the Software.\n",
            "        \n",
            "        THE SOFTWARE IS PROVIDED \"AS IS\", WITHOUT WARRANTY OF ANY KIND, EXPRESS OR IMPLIED, INCLUDING BUT NOT LIMITED TO THE WARRANTIES OF MERCHANTABILITY, FITNESS FOR A PARTICULAR PURPOSE AND NONINFRINGEMENT. IN NO EVENT SHALL THE AUTHORS OR COPYRIGHT HOLDERS BE LIABLE FOR ANY CLAIM, DAMAGES OR OTHER LIABILITY, WHETHER IN AN ACTION OF CONTRACT, TORT OR OTHERWISE, ARISING FROM, OUT OF OR IN CONNECTION WITH THE SOFTWARE OR THE USE OR OTHER DEALINGS IN THE SOFTWARE.\n",
            "Location: /usr/local/lib/python3.8/dist-packages\n",
            "Requires: pandas, numpy, sqlalchemy\n",
            "Required-by: \n"
          ]
        }
      ]
    },
    {
      "cell_type": "code",
      "source": [
        "from pandasql import sqldf\n",
        "dfsql = lambda q: sqldf(q, globals())\n",
        "\n",
        "basicIndexDf = dfsql(\"\"\"\n",
        "with login_users as (\n",
        "  select login_year_month, count(distinct user_id) as mau\n",
        "  from loginUsersDf\n",
        "  group by login_year_month\n",
        "),\n",
        "\n",
        "orders as (\n",
        "  select order_year_month, sum(payment_amount) as sales, count(distinct user_id) as pu\n",
        "  from ordersDf\n",
        "  group by order_year_month\n",
        ")\n",
        "\n",
        "select a.login_year_month, a.mau, b.sales, b.pu, round(b.sales/b.pu, 2) as arppu, round(round(b.sales)/b.pu, 2) as arppu_re\n",
        "from login_users as a\n",
        "left join orders as b\n",
        "on a.login_year_month = b.order_year_month\n",
        "order by a.login_year_month\n",
        "\"\"\")\n",
        "\n",
        "basicIndexDf"
      ],
      "metadata": {
        "id": "70DgWVZWi-2h"
      },
      "execution_count": null,
      "outputs": []
    },
    {
      "cell_type": "code",
      "source": [
        "basicIndexDf.info()"
      ],
      "metadata": {
        "id": "pjxTi-Fsps3b"
      },
      "execution_count": null,
      "outputs": []
    }
  ]
}